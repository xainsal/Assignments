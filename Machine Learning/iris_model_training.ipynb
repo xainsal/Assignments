{
 "cells": [
  {
   "cell_type": "markdown",
   "metadata": {},
   "source": [
    "# ASSIGNMENT : IRIS MULTI-CLASS CLASSIFICATION\n",
    "\n",
    "###### Purpose :\n",
    "To predict the species of flower .\n",
    "###### Description :\n",
    "The dataset contains a set of 150 records under 5 attributes - Petal Length, Petal Width, Sepal Length, Sepal width and Class(Species).\n",
    "###### Requirements :\n",
    "1) Code must be in tf 2.0 .\n",
    "\n",
    "2) Accuracy must be in between 95-97% .\n",
    "\n",
    "3) Model shouldn't be Overfit (You can add drop out layer for this) ."
   ]
  },
  {
   "cell_type": "markdown",
   "metadata": {},
   "source": [
    "### STEP 1 : Load all the necessary libraries "
   ]
  },
  {
   "cell_type": "code",
   "execution_count": 1,
   "metadata": {},
   "outputs": [],
   "source": [
    "from tensorflow import keras\n",
    "import numpy as np\n",
    "import pandas as pd\n",
    "import sklearn"
   ]
  },
  {
   "cell_type": "markdown",
   "metadata": {},
   "source": [
    "### STEP 2 : Data Preparation\n",
    "This step consists of multiple sub steps from data loading [download](https://github.com/ramsha275/PIAIC-Sir-Anees-Quarter-2/blob/master/Deep%20Learning/iris.csv),shuffling ,spliting in **Train** and **Test** sets to one-hot-enconding on labels . \n"
   ]
  },
  {
   "cell_type": "code",
   "execution_count": 2,
   "metadata": {},
   "outputs": [],
   "source": [
    "df1 = pd.read_csv('CSV/iris.csv')"
   ]
  },
  {
   "cell_type": "code",
   "execution_count": 3,
   "metadata": {},
   "outputs": [],
   "source": [
    "df = df1.copy(deep=True)\n",
    "df.replace(df[\"variety\"].unique(), [0,1,2], inplace=True)"
   ]
  },
  {
   "cell_type": "code",
   "execution_count": 4,
   "metadata": {},
   "outputs": [],
   "source": [
    "df = sklearn.utils.shuffle(df)\n",
    "Train_Dataset = np.array(df[:112].drop([\"variety\"],axis=1))\n",
    "Train_Labels = np.array(df[:112][\"variety\"])\n",
    "Test_Dataset = np.array(df[112:].drop([\"variety\"],axis=1))\n",
    "Test_Labels = np.array(df[112:][\"variety\"])"
   ]
  },
  {
   "cell_type": "code",
   "execution_count": 5,
   "metadata": {},
   "outputs": [],
   "source": [
    "Train_Labels = keras.utils.to_categorical(Train_Labels)\n",
    "Test_Labels = keras.utils.to_categorical(Test_Labels)"
   ]
  },
  {
   "cell_type": "markdown",
   "metadata": {},
   "source": [
    "### STEP 3 : Model Architecture \n",
    "\n",
    "\n",
    "###### Input : 4 \n",
    "###### 1 hidden Layer : 8 nodes\n",
    "###### Output : 3"
   ]
  },
  {
   "cell_type": "code",
   "execution_count": 6,
   "metadata": {},
   "outputs": [],
   "source": [
    "model = keras.models.Sequential([\n",
    "  keras.layers.Dense(128, activation='relu', input_shape=(4,)),\n",
    "  keras.layers.Dense(3, activation='softmax')\n",
    "])"
   ]
  },
  {
   "cell_type": "markdown",
   "metadata": {},
   "source": [
    "### STEP 4 : Compilation Step "
   ]
  },
  {
   "cell_type": "code",
   "execution_count": 7,
   "metadata": {},
   "outputs": [
    {
     "data": {
      "text/plain": [
       "<tensorflow.python.keras.callbacks.History at 0x123310fe508>"
      ]
     },
     "execution_count": 7,
     "metadata": {},
     "output_type": "execute_result"
    }
   ],
   "source": [
    "model.compile(optimizer='adam',\n",
    "              loss='categorical_crossentropy',\n",
    "              metrics=['accuracy'])\n",
    "\n",
    "model.fit(Test_Dataset, Test_Labels, epochs=25, verbose=0)"
   ]
  },
  {
   "cell_type": "markdown",
   "metadata": {},
   "source": [
    "### STEP 5 : Evaluation "
   ]
  },
  {
   "cell_type": "code",
   "execution_count": 8,
   "metadata": {},
   "outputs": [
    {
     "name": "stdout",
     "output_type": "stream",
     "text": [
      "38/1 - 0s - loss: 0.5725 - accuracy: 0.9737\n"
     ]
    }
   ],
   "source": [
    "evaluation = model.evaluate(Test_Dataset,  Test_Labels, verbose=2)"
   ]
  },
  {
   "cell_type": "markdown",
   "metadata": {},
   "source": [
    "### STEP 6 : Prediction "
   ]
  },
  {
   "cell_type": "code",
   "execution_count": 9,
   "metadata": {},
   "outputs": [
    {
     "name": "stdout",
     "output_type": "stream",
     "text": [
      "Values: \n",
      "0 = Setosa\n",
      "1 = Versicolor\n",
      "2 = Virginica\n",
      "\n",
      "One Hot Encoding:\n",
      "\t[1. 0. 0.] = Setosa\n",
      "\t[0. 1. 0.] = Versicolor\n",
      "\t[0. 0. 1.] = Virginica\n",
      "\n",
      "Total Test_Dataset: 38\n",
      "\n",
      "Real Value : [0. 1. 0.]\n",
      "Value Predicted : [1]\n",
      "\n",
      "Real Value : [0. 0. 1.]\n",
      "Value Predicted : [2]\n",
      "\n",
      "Real Value : [1. 0. 0.]\n",
      "Value Predicted : [0]\n",
      "\n",
      "Real Value : [0. 1. 0.]\n",
      "Value Predicted : [1]\n",
      "\n",
      "Real Value : [0. 1. 0.]\n",
      "Value Predicted : [1]\n",
      "\n",
      "Real Value : [1. 0. 0.]\n",
      "Value Predicted : [0]\n",
      "\n",
      "Real Value : [0. 0. 1.]\n",
      "Value Predicted : [2]\n",
      "\n",
      "Real Value : [0. 0. 1.]\n",
      "Value Predicted : [1]\n",
      "\n",
      "Real Value : [0. 0. 1.]\n",
      "Value Predicted : [2]\n",
      "\n",
      "Real Value : [1. 0. 0.]\n",
      "Value Predicted : [0]\n",
      "\n",
      "Real Value : [1. 0. 0.]\n",
      "Value Predicted : [0]\n",
      "\n",
      "Real Value : [1. 0. 0.]\n",
      "Value Predicted : [0]\n",
      "\n",
      "Real Value : [1. 0. 0.]\n",
      "Value Predicted : [0]\n",
      "\n",
      "Real Value : [1. 0. 0.]\n",
      "Value Predicted : [0]\n",
      "\n",
      "Real Value : [1. 0. 0.]\n",
      "Value Predicted : [0]\n",
      "\n",
      "Real Value : [1. 0. 0.]\n",
      "Value Predicted : [0]\n",
      "\n",
      "Real Value : [0. 1. 0.]\n",
      "Value Predicted : [1]\n",
      "\n",
      "Real Value : [0. 0. 1.]\n",
      "Value Predicted : [2]\n",
      "\n",
      "Real Value : [1. 0. 0.]\n",
      "Value Predicted : [0]\n",
      "\n",
      "Real Value : [1. 0. 0.]\n",
      "Value Predicted : [0]\n",
      "\n",
      "Real Value : [0. 1. 0.]\n",
      "Value Predicted : [1]\n",
      "\n",
      "Real Value : [1. 0. 0.]\n",
      "Value Predicted : [0]\n",
      "\n",
      "Real Value : [0. 1. 0.]\n",
      "Value Predicted : [1]\n",
      "\n",
      "Real Value : [0. 1. 0.]\n",
      "Value Predicted : [1]\n",
      "\n",
      "Real Value : [0. 1. 0.]\n",
      "Value Predicted : [1]\n",
      "\n",
      "Real Value : [0. 1. 0.]\n",
      "Value Predicted : [1]\n",
      "\n",
      "Real Value : [1. 0. 0.]\n",
      "Value Predicted : [0]\n",
      "\n",
      "Real Value : [0. 0. 1.]\n",
      "Value Predicted : [2]\n",
      "\n",
      "Real Value : [0. 0. 1.]\n",
      "Value Predicted : [2]\n",
      "\n",
      "Real Value : [0. 1. 0.]\n",
      "Value Predicted : [1]\n",
      "\n",
      "Real Value : [0. 0. 1.]\n",
      "Value Predicted : [2]\n",
      "\n",
      "Real Value : [1. 0. 0.]\n",
      "Value Predicted : [0]\n",
      "\n",
      "Real Value : [1. 0. 0.]\n",
      "Value Predicted : [0]\n",
      "\n",
      "Real Value : [0. 0. 1.]\n",
      "Value Predicted : [2]\n",
      "\n",
      "Real Value : [1. 0. 0.]\n",
      "Value Predicted : [0]\n",
      "\n",
      "Real Value : [0. 0. 1.]\n",
      "Value Predicted : [2]\n",
      "\n",
      "Real Value : [1. 0. 0.]\n",
      "Value Predicted : [0]\n",
      "\n",
      "Real Value : [0. 1. 0.]\n",
      "Value Predicted : [1]\n"
     ]
    }
   ],
   "source": [
    "print(f'Values: \\n0 = Setosa\\n1 = Versicolor\\n2 = Virginica')\n",
    "\n",
    "print('\\nOne Hot Encoding:\\n\\t[1. 0. 0.] = Setosa')\n",
    "print('\\t[0. 1. 0.] = Versicolor')\n",
    "print('\\t[0. 0. 1.] = Virginica')\n",
    "\n",
    "\n",
    "print(f'\\nTotal Test_Dataset: {len(Test_Labels)}')\n",
    "\n",
    "for x in range(len(Test_Labels)):\n",
    "    print(\"\\nReal Value :\",Test_Labels[x])\n",
    "    print(\"Value Predicted :\",model.predict_classes(Test_Dataset[[x]]))"
   ]
  },
  {
   "cell_type": "code",
   "execution_count": 10,
   "metadata": {},
   "outputs": [],
   "source": [
    "model.save('Model.h5')"
   ]
  }
 ],
 "metadata": {
  "kernelspec": {
   "display_name": "Python 3",
   "language": "python",
   "name": "python3"
  },
  "language_info": {
   "codemirror_mode": {
    "name": "ipython",
    "version": 3
   },
   "file_extension": ".py",
   "mimetype": "text/x-python",
   "name": "python",
   "nbconvert_exporter": "python",
   "pygments_lexer": "ipython3",
   "version": "3.7.4"
  }
 },
 "nbformat": 4,
 "nbformat_minor": 2
}
