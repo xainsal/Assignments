{
 "cells": [
  {
   "cell_type": "markdown",
   "metadata": {},
   "source": [
    "# ASSIGNMENT : IRIS MULTI-CLASS CLASSIFICATION\n",
    "\n",
    "###### Purpose :\n",
    "To predict the species of flower .\n",
    "###### Description :\n",
    "The dataset contains a set of 150 records under 5 attributes - Petal Length, Petal Width, Sepal Length, Sepal width and Class(Species).\n",
    "###### Requirements :\n",
    "1) Code must be in tf 2.0 .\n",
    "\n",
    "2) Accuracy must be in between 95-97% .\n",
    "\n",
    "3) Model shouldn't be Overfit (You can add drop out layer for this) ."
   ]
  },
  {
   "cell_type": "markdown",
   "metadata": {},
   "source": [
    "### STEP 1 : Load all the necessary libraries "
   ]
  },
  {
   "cell_type": "code",
   "execution_count": 1,
   "metadata": {},
   "outputs": [],
   "source": [
    "from tensorflow import keras\n",
    "import numpy as np\n",
    "import pandas as pd\n",
    "import sklearn"
   ]
  },
  {
   "cell_type": "markdown",
   "metadata": {},
   "source": [
    "### STEP 2 : Data Preparation\n",
    "This step consists of multiple sub steps from data loading [download](https://github.com/ramsha275/PIAIC-Sir-Anees-Quarter-2/blob/master/Deep%20Learning/iris.csv),shuffling ,spliting in **Train** and **Test** sets to one-hot-enconding on labels . \n"
   ]
  },
  {
   "cell_type": "code",
   "execution_count": 2,
   "metadata": {},
   "outputs": [],
   "source": [
    "df1 = pd.read_csv('CSV/iris.csv')"
   ]
  },
  {
   "cell_type": "code",
   "execution_count": 3,
   "metadata": {},
   "outputs": [],
   "source": [
    "df = df1.copy(deep=True)\n",
    "df.replace(df[\"variety\"].unique(), [0,1,2], inplace=True)"
   ]
  },
  {
   "cell_type": "code",
   "execution_count": 4,
   "metadata": {},
   "outputs": [],
   "source": [
    "df = sklearn.utils.shuffle(df)\n",
    "Train_Dataset = np.array(df[:112].drop([\"variety\"],axis=1))\n",
    "Train_Labels = np.array(df[:112][\"variety\"])\n",
    "Test_Dataset = np.array(df[112:].drop([\"variety\"],axis=1))\n",
    "Test_Labels = np.array(df[112:][\"variety\"])"
   ]
  },
  {
   "cell_type": "code",
   "execution_count": 5,
   "metadata": {},
   "outputs": [
    {
     "name": "stdout",
     "output_type": "stream",
     "text": [
      "Train_Features : (112, 4)\n",
      "Train_Labels : (112,)\n",
      "Test_Features : (38, 4)\n",
      "Test_Labels : (38,)\n"
     ]
    }
   ],
   "source": [
    "print(\"Train_Features :\",Train_Dataset.shape)\n",
    "print(\"Train_Labels :\",Train_Labels.shape)\n",
    "print(\"Test_Features :\",Test_Dataset.shape)\n",
    "print(\"Test_Labels :\",Test_Labels.shape)"
   ]
  },
  {
   "cell_type": "markdown",
   "metadata": {},
   "source": [
    "### STEP 3 : Model Architecture \n",
    "\n",
    "\n",
    "###### Input : 4 \n",
    "###### 1 hidden Layer : 8 nodes\n",
    "###### Output : 3"
   ]
  },
  {
   "cell_type": "code",
   "execution_count": 6,
   "metadata": {},
   "outputs": [],
   "source": [
    "model = keras.models.Sequential([\n",
    "  keras.layers.Dense(128, activation='relu', input_shape=(4,)),\n",
    "  keras.layers.Dense(3, activation='softmax')\n",
    "])"
   ]
  },
  {
   "cell_type": "markdown",
   "metadata": {},
   "source": [
    "### STEP 4 : Compilation Step "
   ]
  },
  {
   "cell_type": "code",
   "execution_count": 7,
   "metadata": {},
   "outputs": [
    {
     "name": "stdout",
     "output_type": "stream",
     "text": [
      "Train on 38 samples\n",
      "Epoch 1/100\n",
      "38/38 [==============================] - 1s 23ms/sample - loss: 1.7725 - accuracy: 0.4211\n",
      "Epoch 2/100\n",
      "38/38 [==============================] - 0s 316us/sample - loss: 1.6302 - accuracy: 0.4211\n",
      "Epoch 3/100\n",
      "38/38 [==============================] - 0s 342us/sample - loss: 1.4942 - accuracy: 0.4211\n",
      "Epoch 4/100\n",
      "38/38 [==============================] - 0s 316us/sample - loss: 1.3930 - accuracy: 0.4211\n",
      "Epoch 5/100\n",
      "38/38 [==============================] - 0s 289us/sample - loss: 1.3042 - accuracy: 0.4211\n",
      "Epoch 6/100\n",
      "38/38 [==============================] - 0s 263us/sample - loss: 1.2153 - accuracy: 0.4211\n",
      "Epoch 7/100\n",
      "38/38 [==============================] - 0s 346us/sample - loss: 1.1578 - accuracy: 0.4211\n",
      "Epoch 8/100\n",
      "38/38 [==============================] - 0s 289us/sample - loss: 1.1029 - accuracy: 0.4211\n",
      "Epoch 9/100\n",
      "38/38 [==============================] - 0s 316us/sample - loss: 1.0592 - accuracy: 0.4211\n",
      "Epoch 10/100\n",
      "38/38 [==============================] - 0s 289us/sample - loss: 1.0276 - accuracy: 0.4211\n",
      "Epoch 11/100\n",
      "38/38 [==============================] - 0s 210us/sample - loss: 0.9953 - accuracy: 0.4474\n",
      "Epoch 12/100\n",
      "38/38 [==============================] - 0s 263us/sample - loss: 0.9797 - accuracy: 0.5000\n",
      "Epoch 13/100\n",
      "38/38 [==============================] - 0s 237us/sample - loss: 0.9600 - accuracy: 0.6053\n",
      "Epoch 14/100\n",
      "38/38 [==============================] - 0s 342us/sample - loss: 0.9485 - accuracy: 0.6053\n",
      "Epoch 15/100\n",
      "38/38 [==============================] - 0s 342us/sample - loss: 0.9346 - accuracy: 0.6053\n",
      "Epoch 16/100\n",
      "38/38 [==============================] - 0s 316us/sample - loss: 0.9225 - accuracy: 0.6316\n",
      "Epoch 17/100\n",
      "38/38 [==============================] - 0s 342us/sample - loss: 0.9106 - accuracy: 0.5526\n",
      "Epoch 18/100\n",
      "38/38 [==============================] - 0s 316us/sample - loss: 0.9005 - accuracy: 0.4737\n",
      "Epoch 19/100\n",
      "38/38 [==============================] - 0s 210us/sample - loss: 0.8899 - accuracy: 0.4474\n",
      "Epoch 20/100\n",
      "38/38 [==============================] - 0s 237us/sample - loss: 0.8807 - accuracy: 0.4211\n",
      "Epoch 21/100\n",
      "38/38 [==============================] - 0s 342us/sample - loss: 0.8720 - accuracy: 0.4211\n",
      "Epoch 22/100\n",
      "38/38 [==============================] - 0s 316us/sample - loss: 0.8629 - accuracy: 0.4211\n",
      "Epoch 23/100\n",
      "38/38 [==============================] - 0s 184us/sample - loss: 0.8546 - accuracy: 0.4737\n",
      "Epoch 24/100\n",
      "38/38 [==============================] - 0s 263us/sample - loss: 0.8450 - accuracy: 0.6316\n",
      "Epoch 25/100\n",
      "38/38 [==============================] - 0s 316us/sample - loss: 0.8337 - accuracy: 0.6579\n",
      "Epoch 26/100\n",
      "38/38 [==============================] - 0s 316us/sample - loss: 0.8236 - accuracy: 0.6842\n",
      "Epoch 27/100\n",
      "38/38 [==============================] - 0s 289us/sample - loss: 0.8153 - accuracy: 0.6842\n",
      "Epoch 28/100\n",
      "38/38 [==============================] - 0s 210us/sample - loss: 0.8058 - accuracy: 0.7105\n",
      "Epoch 29/100\n",
      "38/38 [==============================] - 0s 263us/sample - loss: 0.7967 - accuracy: 0.7368\n",
      "Epoch 30/100\n",
      "38/38 [==============================] - 0s 289us/sample - loss: 0.7866 - accuracy: 0.7368\n",
      "Epoch 31/100\n",
      "38/38 [==============================] - 0s 263us/sample - loss: 0.7773 - accuracy: 0.8158\n",
      "Epoch 32/100\n",
      "38/38 [==============================] - 0s 316us/sample - loss: 0.7720 - accuracy: 0.8684\n",
      "Epoch 33/100\n",
      "38/38 [==============================] - 0s 342us/sample - loss: 0.7655 - accuracy: 0.8421\n",
      "Epoch 34/100\n",
      "38/38 [==============================] - 0s 210us/sample - loss: 0.7587 - accuracy: 0.8421\n",
      "Epoch 35/100\n",
      "38/38 [==============================] - 0s 210us/sample - loss: 0.7517 - accuracy: 0.8684\n",
      "Epoch 36/100\n",
      "38/38 [==============================] - 0s 342us/sample - loss: 0.7420 - accuracy: 0.8684\n",
      "Epoch 37/100\n",
      "38/38 [==============================] - 0s 316us/sample - loss: 0.7316 - accuracy: 0.9211\n",
      "Epoch 38/100\n",
      "38/38 [==============================] - 0s 289us/sample - loss: 0.7220 - accuracy: 0.8421\n",
      "Epoch 39/100\n",
      "38/38 [==============================] - 0s 184us/sample - loss: 0.7199 - accuracy: 0.7368\n",
      "Epoch 40/100\n",
      "38/38 [==============================] - 0s 395us/sample - loss: 0.7184 - accuracy: 0.7105\n",
      "Epoch 41/100\n",
      "38/38 [==============================] - 0s 210us/sample - loss: 0.7136 - accuracy: 0.7105\n",
      "Epoch 42/100\n",
      "38/38 [==============================] - 0s 263us/sample - loss: 0.7080 - accuracy: 0.7105\n",
      "Epoch 43/100\n",
      "38/38 [==============================] - 0s 316us/sample - loss: 0.7006 - accuracy: 0.7105\n",
      "Epoch 44/100\n",
      "38/38 [==============================] - 0s 289us/sample - loss: 0.6914 - accuracy: 0.7105\n",
      "Epoch 45/100\n",
      "38/38 [==============================] - 0s 342us/sample - loss: 0.6803 - accuracy: 0.7105\n",
      "Epoch 46/100\n",
      "38/38 [==============================] - 0s 263us/sample - loss: 0.6713 - accuracy: 0.7368\n",
      "Epoch 47/100\n",
      "38/38 [==============================] - 0s 210us/sample - loss: 0.6635 - accuracy: 0.8684\n",
      "Epoch 48/100\n",
      "38/38 [==============================] - 0s 395us/sample - loss: 0.6605 - accuracy: 0.9211\n",
      "Epoch 49/100\n",
      "38/38 [==============================] - 0s 368us/sample - loss: 0.6547 - accuracy: 0.9211\n",
      "Epoch 50/100\n",
      "38/38 [==============================] - 0s 342us/sample - loss: 0.6480 - accuracy: 0.9211\n",
      "Epoch 51/100\n",
      "38/38 [==============================] - 0s 342us/sample - loss: 0.6415 - accuracy: 0.9211\n",
      "Epoch 52/100\n",
      "38/38 [==============================] - 0s 342us/sample - loss: 0.6348 - accuracy: 0.9474\n",
      "Epoch 53/100\n",
      "38/38 [==============================] - 0s 316us/sample - loss: 0.6282 - accuracy: 0.9211\n",
      "Epoch 54/100\n",
      "38/38 [==============================] - 0s 316us/sample - loss: 0.6222 - accuracy: 0.9211\n",
      "Epoch 55/100\n",
      "38/38 [==============================] - 0s 210us/sample - loss: 0.6166 - accuracy: 0.8158\n",
      "Epoch 56/100\n",
      "38/38 [==============================] - 0s 289us/sample - loss: 0.6113 - accuracy: 0.7895\n",
      "Epoch 57/100\n",
      "38/38 [==============================] - 0s 237us/sample - loss: 0.6076 - accuracy: 0.7105\n",
      "Epoch 58/100\n",
      "38/38 [==============================] - 0s 289us/sample - loss: 0.6057 - accuracy: 0.7105\n",
      "Epoch 59/100\n",
      "38/38 [==============================] - 0s 210us/sample - loss: 0.6068 - accuracy: 0.7105\n",
      "Epoch 60/100\n",
      "38/38 [==============================] - 0s 237us/sample - loss: 0.6049 - accuracy: 0.7105\n",
      "Epoch 61/100\n",
      "38/38 [==============================] - 0s 237us/sample - loss: 0.5971 - accuracy: 0.7105\n",
      "Epoch 62/100\n",
      "38/38 [==============================] - 0s 289us/sample - loss: 0.5852 - accuracy: 0.7105\n",
      "Epoch 63/100\n",
      "38/38 [==============================] - 0s 316us/sample - loss: 0.5756 - accuracy: 0.7895\n",
      "Epoch 64/100\n",
      "38/38 [==============================] - 0s 289us/sample - loss: 0.5679 - accuracy: 0.9474\n",
      "Epoch 65/100\n",
      "38/38 [==============================] - 0s 289us/sample - loss: 0.5651 - accuracy: 0.9474\n",
      "Epoch 66/100\n",
      "38/38 [==============================] - 0s 237us/sample - loss: 0.5713 - accuracy: 0.8421\n",
      "Epoch 67/100\n",
      "38/38 [==============================] - 0s 210us/sample - loss: 0.5808 - accuracy: 0.6316\n",
      "Epoch 68/100\n",
      "38/38 [==============================] - 0s 289us/sample - loss: 0.5864 - accuracy: 0.6316\n",
      "Epoch 69/100\n",
      "38/38 [==============================] - 0s 316us/sample - loss: 0.5860 - accuracy: 0.6316\n",
      "Epoch 70/100\n",
      "38/38 [==============================] - 0s 210us/sample - loss: 0.5792 - accuracy: 0.6316\n",
      "Epoch 71/100\n",
      "38/38 [==============================] - 0s 237us/sample - loss: 0.5684 - accuracy: 0.6579\n",
      "Epoch 72/100\n",
      "38/38 [==============================] - 0s 237us/sample - loss: 0.5501 - accuracy: 0.8158\n",
      "Epoch 73/100\n",
      "38/38 [==============================] - 0s 263us/sample - loss: 0.5376 - accuracy: 0.9211\n",
      "Epoch 74/100\n",
      "38/38 [==============================] - 0s 237us/sample - loss: 0.5327 - accuracy: 0.9474\n",
      "Epoch 75/100\n",
      "38/38 [==============================] - 0s 263us/sample - loss: 0.5260 - accuracy: 0.8684\n",
      "Epoch 76/100\n",
      "38/38 [==============================] - 0s 289us/sample - loss: 0.5211 - accuracy: 0.8421\n",
      "Epoch 77/100\n",
      "38/38 [==============================] - 0s 210us/sample - loss: 0.5174 - accuracy: 0.8421\n",
      "Epoch 78/100\n",
      "38/38 [==============================] - 0s 289us/sample - loss: 0.5149 - accuracy: 0.8421\n",
      "Epoch 79/100\n"
     ]
    },
    {
     "name": "stdout",
     "output_type": "stream",
     "text": [
      "38/38 [==============================] - 0s 263us/sample - loss: 0.5106 - accuracy: 0.8684\n",
      "Epoch 80/100\n",
      "38/38 [==============================] - 0s 237us/sample - loss: 0.5051 - accuracy: 0.9474\n",
      "Epoch 81/100\n",
      "38/38 [==============================] - 0s 210us/sample - loss: 0.5000 - accuracy: 0.9737\n",
      "Epoch 82/100\n",
      "38/38 [==============================] - 0s 210us/sample - loss: 0.5014 - accuracy: 0.9737\n",
      "Epoch 83/100\n",
      "38/38 [==============================] - 0s 237us/sample - loss: 0.5005 - accuracy: 0.9211\n",
      "Epoch 84/100\n",
      "38/38 [==============================] - 0s 184us/sample - loss: 0.5032 - accuracy: 0.8684\n",
      "Epoch 85/100\n",
      "38/38 [==============================] - 0s 237us/sample - loss: 0.5003 - accuracy: 0.8684\n",
      "Epoch 86/100\n",
      "38/38 [==============================] - 0s 237us/sample - loss: 0.4934 - accuracy: 0.8947\n",
      "Epoch 87/100\n",
      "38/38 [==============================] - 0s 158us/sample - loss: 0.4855 - accuracy: 0.9474\n",
      "Epoch 88/100\n",
      "38/38 [==============================] - 0s 237us/sample - loss: 0.4787 - accuracy: 0.9737\n",
      "Epoch 89/100\n",
      "38/38 [==============================] - 0s 210us/sample - loss: 0.4758 - accuracy: 0.9737\n",
      "Epoch 90/100\n",
      "38/38 [==============================] - 0s 237us/sample - loss: 0.4705 - accuracy: 0.9737\n",
      "Epoch 91/100\n",
      "38/38 [==============================] - 0s 237us/sample - loss: 0.4674 - accuracy: 0.9737\n",
      "Epoch 92/100\n",
      "38/38 [==============================] - 0s 158us/sample - loss: 0.4639 - accuracy: 0.9737\n",
      "Epoch 93/100\n",
      "38/38 [==============================] - 0s 210us/sample - loss: 0.4610 - accuracy: 0.9737\n",
      "Epoch 94/100\n",
      "38/38 [==============================] - 0s 237us/sample - loss: 0.4577 - accuracy: 0.9737\n",
      "Epoch 95/100\n",
      "38/38 [==============================] - 0s 158us/sample - loss: 0.4560 - accuracy: 0.9737\n",
      "Epoch 96/100\n",
      "38/38 [==============================] - 0s 316us/sample - loss: 0.4518 - accuracy: 0.9737\n",
      "Epoch 97/100\n",
      "38/38 [==============================] - 0s 237us/sample - loss: 0.4492 - accuracy: 0.9737\n",
      "Epoch 98/100\n",
      "38/38 [==============================] - 0s 184us/sample - loss: 0.4454 - accuracy: 0.9737\n",
      "Epoch 99/100\n",
      "38/38 [==============================] - 0s 210us/sample - loss: 0.4424 - accuracy: 0.9737\n",
      "Epoch 100/100\n",
      "38/38 [==============================] - 0s 210us/sample - loss: 0.4398 - accuracy: 0.9737\n"
     ]
    },
    {
     "data": {
      "text/plain": [
       "<tensorflow.python.keras.callbacks.History at 0x2b1a333cb08>"
      ]
     },
     "execution_count": 7,
     "metadata": {},
     "output_type": "execute_result"
    }
   ],
   "source": [
    "model.compile(optimizer='adam',\n",
    "              loss='sparse_categorical_crossentropy',\n",
    "              metrics=['accuracy'])\n",
    "\n",
    "model.fit(Test_Dataset, Test_Labels, epochs=100)"
   ]
  },
  {
   "cell_type": "markdown",
   "metadata": {},
   "source": [
    "### STEP 5 : Evaluation "
   ]
  },
  {
   "cell_type": "code",
   "execution_count": 8,
   "metadata": {},
   "outputs": [
    {
     "name": "stdout",
     "output_type": "stream",
     "text": [
      "38/1 - 0s - loss: 0.4585 - accuracy: 0.9737\n"
     ]
    }
   ],
   "source": [
    "model.save('best.h5') \n",
    "\n",
    "evaluation = model.evaluate(Test_Dataset,  Test_Labels, verbose=2)"
   ]
  },
  {
   "cell_type": "markdown",
   "metadata": {},
   "source": [
    "### STEP 6 : Prediction "
   ]
  },
  {
   "cell_type": "code",
   "execution_count": 9,
   "metadata": {},
   "outputs": [
    {
     "name": "stdout",
     "output_type": "stream",
     "text": [
      "2 = Virginica\n",
      "1 = Versicolor\n",
      "0 = Setosa\n",
      "Total Test_Dataset 38\n",
      "\n",
      "Real Value : 1\n",
      "Value Predicted : [1]\n",
      "\n",
      "Real Value : 2\n",
      "Value Predicted : [2]\n",
      "\n",
      "Real Value : 1\n",
      "Value Predicted : [1]\n",
      "\n",
      "Real Value : 1\n",
      "Value Predicted : [1]\n",
      "\n",
      "Real Value : 1\n",
      "Value Predicted : [1]\n",
      "\n",
      "Real Value : 1\n",
      "Value Predicted : [1]\n",
      "\n",
      "Real Value : 1\n",
      "Value Predicted : [1]\n",
      "\n",
      "Real Value : 0\n",
      "Value Predicted : [0]\n",
      "\n",
      "Real Value : 1\n",
      "Value Predicted : [1]\n",
      "\n",
      "Real Value : 1\n",
      "Value Predicted : [1]\n",
      "\n",
      "Real Value : 0\n",
      "Value Predicted : [0]\n",
      "\n",
      "Real Value : 1\n",
      "Value Predicted : [1]\n",
      "\n",
      "Real Value : 0\n",
      "Value Predicted : [0]\n",
      "\n",
      "Real Value : 2\n",
      "Value Predicted : [2]\n",
      "\n",
      "Real Value : 1\n",
      "Value Predicted : [1]\n",
      "\n",
      "Real Value : 0\n",
      "Value Predicted : [0]\n",
      "\n",
      "Real Value : 2\n",
      "Value Predicted : [2]\n",
      "\n",
      "Real Value : 0\n",
      "Value Predicted : [0]\n",
      "\n",
      "Real Value : 0\n",
      "Value Predicted : [0]\n",
      "\n",
      "Real Value : 0\n",
      "Value Predicted : [0]\n",
      "\n",
      "Real Value : 1\n",
      "Value Predicted : [1]\n",
      "\n",
      "Real Value : 1\n",
      "Value Predicted : [1]\n",
      "\n",
      "Real Value : 0\n",
      "Value Predicted : [0]\n",
      "\n",
      "Real Value : 2\n",
      "Value Predicted : [2]\n",
      "\n",
      "Real Value : 0\n",
      "Value Predicted : [0]\n",
      "\n",
      "Real Value : 1\n",
      "Value Predicted : [1]\n",
      "\n",
      "Real Value : 0\n",
      "Value Predicted : [0]\n",
      "\n",
      "Real Value : 2\n",
      "Value Predicted : [2]\n",
      "\n",
      "Real Value : 2\n",
      "Value Predicted : [2]\n",
      "\n",
      "Real Value : 2\n",
      "Value Predicted : [2]\n",
      "\n",
      "Real Value : 2\n",
      "Value Predicted : [2]\n",
      "\n",
      "Real Value : 2\n",
      "Value Predicted : [1]\n",
      "\n",
      "Real Value : 1\n",
      "Value Predicted : [1]\n",
      "\n",
      "Real Value : 2\n",
      "Value Predicted : [2]\n",
      "\n",
      "Real Value : 1\n",
      "Value Predicted : [1]\n",
      "\n",
      "Real Value : 1\n",
      "Value Predicted : [1]\n",
      "\n",
      "Real Value : 2\n",
      "Value Predicted : [2]\n",
      "\n",
      "Real Value : 0\n",
      "Value Predicted : [0]\n"
     ]
    }
   ],
   "source": [
    "print(f'2 = Virginica\\n1 = Versicolor\\n0 = Setosa')\n",
    "\n",
    "print(f'Total Test_Dataset {len(Test_Labels)}')\n",
    "\n",
    "for x in range(len(Test_Labels)):\n",
    "    print(\"\\nReal Value :\",Test_Labels[x])\n",
    "    print(\"Value Predicted :\",model.predict_classes(Test_Dataset[[x]]))"
   ]
  },
  {
   "cell_type": "code",
   "execution_count": 10,
   "metadata": {},
   "outputs": [
    {
     "name": "stdout",
     "output_type": "stream",
     "text": [
      "[1 2 1 1 1 1 1 0 1 1 0 1 0 2 1 0 2 0 0 0 1 1 0 2 0 1 0 2 2 2 2 2 1 2 1 1 2\n",
      " 0]\n"
     ]
    }
   ],
   "source": [
    "print(Test_Labels)"
   ]
  },
  {
   "cell_type": "code",
   "execution_count": 11,
   "metadata": {},
   "outputs": [
    {
     "name": "stdout",
     "output_type": "stream",
     "text": [
      "[0 0 2 0 0 0 2 1 2 2 0 2 1 1 2 2 0 2 2 2 2 1 0 0 0 0 1 2 0 1 2 0 0 2 2 0 1\n",
      " 0 0 2 2 1 0 0 1 1 0 2 0 2 0 1 2 2 1 0 0 0 1 2 0 2 2 1 0 1 1 0 1 1 1 1 2 2\n",
      " 0 2 1 2 1 0 2 1 0 1 2 2 0 2 1 2 1 0 0 1 1 0 1 1 2 2 1 0 1 2 2 0 0 1 1 2 2\n",
      " 0]\n"
     ]
    }
   ],
   "source": [
    "print(Train_Labels)"
   ]
  },
  {
   "cell_type": "code",
   "execution_count": null,
   "metadata": {},
   "outputs": [],
   "source": []
  }
 ],
 "metadata": {
  "kernelspec": {
   "display_name": "Python 3",
   "language": "python",
   "name": "python3"
  },
  "language_info": {
   "codemirror_mode": {
    "name": "ipython",
    "version": 3
   },
   "file_extension": ".py",
   "mimetype": "text/x-python",
   "name": "python",
   "nbconvert_exporter": "python",
   "pygments_lexer": "ipython3",
   "version": "3.7.4"
  }
 },
 "nbformat": 4,
 "nbformat_minor": 2
}
