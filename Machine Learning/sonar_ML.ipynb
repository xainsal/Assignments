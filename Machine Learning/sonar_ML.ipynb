{
 "cells": [
  {
   "cell_type": "markdown",
   "metadata": {},
   "source": [
    "# 1) load data set (pandas) +"
   ]
  },
  {
   "cell_type": "code",
   "execution_count": 1,
   "metadata": {},
   "outputs": [],
   "source": [
    "import pandas as pd\n",
    "import numpy as np\n",
    "import tensorflow.keras\n",
    "import sklearn"
   ]
  },
  {
   "cell_type": "code",
   "execution_count": 2,
   "metadata": {},
   "outputs": [],
   "source": [
    "df2 = pd.read_csv('CSV/sonar.csv', header=None)"
   ]
  },
  {
   "cell_type": "code",
   "execution_count": 3,
   "metadata": {},
   "outputs": [],
   "source": [
    "train = int(df2.shape[0] / 100 * 70)\n",
    "validate = int(df2.shape[0] / 100 * 10) + train\n",
    "test = df2.shape[0] -  validate "
   ]
  },
  {
   "cell_type": "markdown",
   "metadata": {},
   "source": [
    "# 2) shufle dataset (pandas) +"
   ]
  },
  {
   "cell_type": "code",
   "execution_count": 4,
   "metadata": {},
   "outputs": [],
   "source": [
    "df1 = df2.sample(frac=1)\n",
    "df1 = sklearn.utils.shuffle(df1)\n",
    "df = df1.copy(deep=True)"
   ]
  },
  {
   "cell_type": "markdown",
   "metadata": {},
   "source": [
    "# 1) Label Encoding (pandas) +"
   ]
  },
  {
   "cell_type": "code",
   "execution_count": 5,
   "metadata": {},
   "outputs": [],
   "source": [
    "total = df.iloc[:,60].unique().shape[0]\n",
    "df.replace(df.iloc[:,60].unique(), [x for x in range(total)], inplace=True)"
   ]
  },
  {
   "cell_type": "markdown",
   "metadata": {},
   "source": [
    "# 3) split training (70) validation (10) and test (20) % +\n",
    "# 4) Split  inputs and labels (output) +\n",
    "# 5) label one hot coding +"
   ]
  },
  {
   "cell_type": "code",
   "execution_count": 6,
   "metadata": {},
   "outputs": [],
   "source": [
    "Train_Data = df.iloc[:train,:60].to_numpy()\n",
    "Train_Label = tensorflow.keras.utils.to_categorical(df.iloc[:train,60])\n",
    "Vali_Data = df.iloc[train:validate,:60].to_numpy()\n",
    "Vali_Label = tensorflow.keras.utils.to_categorical(df.iloc[train:validate,60])\n",
    "Test_Data = df.iloc[validate:,:60].to_numpy()\n",
    "Test_Label = tensorflow.keras.utils.to_categorical(df.iloc[validate:,60])"
   ]
  },
  {
   "cell_type": "code",
   "execution_count": 7,
   "metadata": {},
   "outputs": [
    {
     "name": "stdout",
     "output_type": "stream",
     "text": [
      "(145, 60)\n",
      "(145, 2)\n",
      "(20, 60)\n",
      "(20, 2)\n",
      "(43, 60)\n",
      "(43, 2)\n"
     ]
    }
   ],
   "source": [
    "print(Train_Data.shape)\n",
    "print(Train_Label.shape)\n",
    "print(Vali_Data.shape)\n",
    "print(Vali_Label.shape)\n",
    "print(Test_Data.shape)\n",
    "print(Test_Label.shape)"
   ]
  },
  {
   "cell_type": "markdown",
   "metadata": {},
   "source": [
    "# 6) fit model without validation (compare training and testing acuracies)"
   ]
  },
  {
   "cell_type": "code",
   "execution_count": 8,
   "metadata": {},
   "outputs": [],
   "source": [
    "model = tensorflow.keras.Sequential([\n",
    "    tensorflow.keras.layers.Dense(60, activation='relu', input_shape=(60,)),\n",
    "    tensorflow.keras.layers.Dense(40, activation='relu'),\n",
    "    tensorflow.keras.layers.Dropout(0.2),\n",
    "    tensorflow.keras.layers.Dense(2, activation='softmax'),\n",
    "])"
   ]
  },
  {
   "cell_type": "code",
   "execution_count": 9,
   "metadata": {},
   "outputs": [],
   "source": [
    "model.compile(\n",
    "    optimizer=tensorflow.keras.optimizers.RMSprop(learning_rate=0.01),\n",
    "    loss='categorical_crossentropy',\n",
    "    metrics=['accuracy']\n",
    ")"
   ]
  },
  {
   "cell_type": "code",
   "execution_count": 10,
   "metadata": {},
   "outputs": [
    {
     "name": "stdout",
     "output_type": "stream",
     "text": [
      "Train on 145 samples\n",
      "Epoch 1/100\n",
      "145/145 [==============================] - 1s 8ms/sample - loss: 0.9837 - accuracy: 0.5310\n",
      "Epoch 2/100\n",
      "145/145 [==============================] - 0s 209us/sample - loss: 0.6879 - accuracy: 0.5724\n",
      "Epoch 3/100\n",
      "145/145 [==============================] - 0s 148us/sample - loss: 0.6555 - accuracy: 0.6621\n",
      "Epoch 4/100\n",
      "145/145 [==============================] - 0s 159us/sample - loss: 0.5935 - accuracy: 0.6897\n",
      "Epoch 5/100\n",
      "145/145 [==============================] - 0s 152us/sample - loss: 0.5500 - accuracy: 0.6966\n",
      "Epoch 6/100\n",
      "145/145 [==============================] - 0s 152us/sample - loss: 0.6092 - accuracy: 0.6828\n",
      "Epoch 7/100\n",
      "145/145 [==============================] - 0s 159us/sample - loss: 0.5474 - accuracy: 0.6966\n",
      "Epoch 8/100\n",
      "145/145 [==============================] - 0s 152us/sample - loss: 0.5427 - accuracy: 0.7034\n",
      "Epoch 9/100\n",
      "145/145 [==============================] - 0s 159us/sample - loss: 0.4734 - accuracy: 0.7793\n",
      "Epoch 10/100\n",
      "145/145 [==============================] - 0s 138us/sample - loss: 0.4994 - accuracy: 0.7793\n",
      "Epoch 11/100\n",
      "145/145 [==============================] - 0s 159us/sample - loss: 0.6697 - accuracy: 0.7103\n",
      "Epoch 12/100\n",
      "145/145 [==============================] - 0s 124us/sample - loss: 0.4740 - accuracy: 0.7586\n",
      "Epoch 13/100\n",
      "145/145 [==============================] - 0s 159us/sample - loss: 0.5078 - accuracy: 0.7172\n",
      "Epoch 14/100\n",
      "145/145 [==============================] - 0s 152us/sample - loss: 0.5080 - accuracy: 0.7310\n",
      "Epoch 15/100\n",
      "145/145 [==============================] - 0s 103us/sample - loss: 0.3903 - accuracy: 0.8414\n",
      "Epoch 16/100\n",
      "145/145 [==============================] - 0s 96us/sample - loss: 0.3653 - accuracy: 0.8276\n",
      "Epoch 17/100\n",
      "145/145 [==============================] - 0s 89us/sample - loss: 0.4082 - accuracy: 0.8069\n",
      "Epoch 18/100\n",
      "145/145 [==============================] - 0s 156us/sample - loss: 0.5129 - accuracy: 0.7379\n",
      "Epoch 19/100\n",
      "145/145 [==============================] - 0s 165us/sample - loss: 0.4335 - accuracy: 0.8000\n",
      "Epoch 20/100\n",
      "145/145 [==============================] - 0s 165us/sample - loss: 0.3727 - accuracy: 0.8276\n",
      "Epoch 21/100\n",
      "145/145 [==============================] - 0s 159us/sample - loss: 0.3525 - accuracy: 0.8414\n",
      "Epoch 22/100\n",
      "145/145 [==============================] - 0s 159us/sample - loss: 0.5937 - accuracy: 0.7241\n",
      "Epoch 23/100\n",
      "145/145 [==============================] - 0s 152us/sample - loss: 0.3500 - accuracy: 0.8483\n",
      "Epoch 24/100\n",
      "145/145 [==============================] - 0s 152us/sample - loss: 0.3168 - accuracy: 0.8552\n",
      "Epoch 25/100\n",
      "145/145 [==============================] - 0s 193us/sample - loss: 0.3534 - accuracy: 0.8483\n",
      "Epoch 26/100\n",
      "145/145 [==============================] - 0s 145us/sample - loss: 0.2853 - accuracy: 0.8552\n",
      "Epoch 27/100\n",
      "145/145 [==============================] - 0s 145us/sample - loss: 0.3539 - accuracy: 0.8759\n",
      "Epoch 28/100\n",
      "145/145 [==============================] - 0s 152us/sample - loss: 0.3901 - accuracy: 0.8276\n",
      "Epoch 29/100\n",
      "145/145 [==============================] - 0s 179us/sample - loss: 0.3262 - accuracy: 0.8414\n",
      "Epoch 30/100\n",
      "145/145 [==============================] - ETA: 0s - loss: 0.4341 - accuracy: 0.75 - 0s 145us/sample - loss: 0.4904 - accuracy: 0.7586\n",
      "Epoch 31/100\n",
      "145/145 [==============================] - 0s 152us/sample - loss: 0.2447 - accuracy: 0.9448\n",
      "Epoch 32/100\n",
      "145/145 [==============================] - 0s 152us/sample - loss: 0.2830 - accuracy: 0.8897\n",
      "Epoch 33/100\n",
      "145/145 [==============================] - 0s 145us/sample - loss: 0.3126 - accuracy: 0.8621\n",
      "Epoch 34/100\n",
      "145/145 [==============================] - 0s 193us/sample - loss: 0.4118 - accuracy: 0.8069\n",
      "Epoch 35/100\n",
      "145/145 [==============================] - 0s 159us/sample - loss: 0.2019 - accuracy: 0.9310\n",
      "Epoch 36/100\n",
      "145/145 [==============================] - 0s 159us/sample - loss: 0.1746 - accuracy: 0.9310\n",
      "Epoch 37/100\n",
      "145/145 [==============================] - 0s 165us/sample - loss: 0.3577 - accuracy: 0.8207\n",
      "Epoch 38/100\n",
      "145/145 [==============================] - 0s 165us/sample - loss: 0.2239 - accuracy: 0.9310\n",
      "Epoch 39/100\n",
      "145/145 [==============================] - 0s 207us/sample - loss: 0.1976 - accuracy: 0.9310\n",
      "Epoch 40/100\n",
      "145/145 [==============================] - 0s 172us/sample - loss: 0.1490 - accuracy: 0.9448\n",
      "Epoch 41/100\n",
      "145/145 [==============================] - 0s 159us/sample - loss: 0.4969 - accuracy: 0.8483\n",
      "Epoch 42/100\n",
      "145/145 [==============================] - 0s 152us/sample - loss: 0.1888 - accuracy: 0.9241\n",
      "Epoch 43/100\n",
      "145/145 [==============================] - 0s 152us/sample - loss: 0.3150 - accuracy: 0.8483\n",
      "Epoch 44/100\n",
      "145/145 [==============================] - 0s 152us/sample - loss: 0.2006 - accuracy: 0.9103\n",
      "Epoch 45/100\n",
      "145/145 [==============================] - 0s 152us/sample - loss: 0.2438 - accuracy: 0.8828\n",
      "Epoch 46/100\n",
      "145/145 [==============================] - 0s 152us/sample - loss: 0.2266 - accuracy: 0.8966\n",
      "Epoch 47/100\n",
      "145/145 [==============================] - 0s 172us/sample - loss: 0.1112 - accuracy: 0.9724\n",
      "Epoch 48/100\n",
      "145/145 [==============================] - 0s 200us/sample - loss: 0.2259 - accuracy: 0.9172\n",
      "Epoch 49/100\n",
      "145/145 [==============================] - 0s 186us/sample - loss: 0.1679 - accuracy: 0.9448\n",
      "Epoch 50/100\n",
      "145/145 [==============================] - 0s 145us/sample - loss: 0.1101 - accuracy: 0.9586\n",
      "Epoch 51/100\n",
      "145/145 [==============================] - 0s 159us/sample - loss: 0.1002 - accuracy: 0.9793\n",
      "Epoch 52/100\n",
      "145/145 [==============================] - 0s 159us/sample - loss: 0.4177 - accuracy: 0.8069\n",
      "Epoch 53/100\n",
      "145/145 [==============================] - 0s 172us/sample - loss: 0.1326 - accuracy: 0.9517\n",
      "Epoch 54/100\n",
      "145/145 [==============================] - 0s 131us/sample - loss: 0.0958 - accuracy: 0.9655\n",
      "Epoch 55/100\n",
      "145/145 [==============================] - 0s 221us/sample - loss: 0.1763 - accuracy: 0.9310\n",
      "Epoch 56/100\n",
      "145/145 [==============================] - 0s 159us/sample - loss: 0.0915 - accuracy: 0.9586\n",
      "Epoch 57/100\n",
      "145/145 [==============================] - 0s 138us/sample - loss: 0.1849 - accuracy: 0.9034\n",
      "Epoch 58/100\n",
      "145/145 [==============================] - 0s 165us/sample - loss: 0.1090 - accuracy: 0.9655\n",
      "Epoch 59/100\n",
      "145/145 [==============================] - 0s 131us/sample - loss: 0.4278 - accuracy: 0.8690\n",
      "Epoch 60/100\n",
      "145/145 [==============================] - 0s 186us/sample - loss: 0.0777 - accuracy: 0.9724\n",
      "Epoch 61/100\n",
      "145/145 [==============================] - 0s 207us/sample - loss: 0.0798 - accuracy: 0.9793\n",
      "Epoch 62/100\n",
      "145/145 [==============================] - 0s 193us/sample - loss: 0.1055 - accuracy: 0.9655\n",
      "Epoch 63/100\n",
      "145/145 [==============================] - 0s 207us/sample - loss: 0.0717 - accuracy: 0.9793\n",
      "Epoch 64/100\n",
      "145/145 [==============================] - 0s 193us/sample - loss: 0.4026 - accuracy: 0.8690\n",
      "Epoch 65/100\n",
      "145/145 [==============================] - 0s 159us/sample - loss: 0.0820 - accuracy: 0.9793\n",
      "Epoch 66/100\n",
      "145/145 [==============================] - 0s 186us/sample - loss: 0.0494 - accuracy: 0.9862\n",
      "Epoch 67/100\n",
      "145/145 [==============================] - 0s 159us/sample - loss: 0.0407 - accuracy: 0.9931\n",
      "Epoch 68/100\n",
      "145/145 [==============================] - 0s 159us/sample - loss: 0.0729 - accuracy: 0.9793\n",
      "Epoch 69/100\n",
      "145/145 [==============================] - 0s 200us/sample - loss: 0.0477 - accuracy: 0.9862\n",
      "Epoch 70/100\n",
      "145/145 [==============================] - 0s 165us/sample - loss: 0.5788 - accuracy: 0.8207\n",
      "Epoch 71/100\n",
      "145/145 [==============================] - 0s 152us/sample - loss: 0.0660 - accuracy: 0.9862\n",
      "Epoch 72/100\n",
      "145/145 [==============================] - 0s 152us/sample - loss: 0.0427 - accuracy: 0.9931\n",
      "Epoch 73/100\n",
      "145/145 [==============================] - 0s 165us/sample - loss: 0.0509 - accuracy: 0.9931\n",
      "Epoch 74/100\n",
      "145/145 [==============================] - 0s 165us/sample - loss: 0.4055 - accuracy: 0.8276\n",
      "Epoch 75/100\n",
      "145/145 [==============================] - 0s 159us/sample - loss: 0.0503 - accuracy: 1.0000\n",
      "Epoch 76/100\n",
      "145/145 [==============================] - 0s 165us/sample - loss: 0.0321 - accuracy: 1.0000\n",
      "Epoch 77/100\n"
     ]
    },
    {
     "name": "stdout",
     "output_type": "stream",
     "text": [
      "145/145 [==============================] - 0s 214us/sample - loss: 0.0259 - accuracy: 0.9931\n",
      "Epoch 78/100\n",
      "145/145 [==============================] - 0s 179us/sample - loss: 0.0189 - accuracy: 1.0000\n",
      "Epoch 79/100\n",
      "145/145 [==============================] - 0s 159us/sample - loss: 0.0335 - accuracy: 1.0000\n",
      "Epoch 80/100\n",
      "145/145 [==============================] - 0s 172us/sample - loss: 0.5080 - accuracy: 0.8621\n",
      "Epoch 81/100\n",
      "145/145 [==============================] - 0s 193us/sample - loss: 0.0899 - accuracy: 0.9793\n",
      "Epoch 82/100\n",
      "145/145 [==============================] - 0s 172us/sample - loss: 0.0276 - accuracy: 0.9931\n",
      "Epoch 83/100\n",
      "145/145 [==============================] - 0s 214us/sample - loss: 0.0201 - accuracy: 1.0000\n",
      "Epoch 84/100\n",
      "145/145 [==============================] - 0s 165us/sample - loss: 0.0130 - accuracy: 1.0000\n",
      "Epoch 85/100\n",
      "145/145 [==============================] - 0s 165us/sample - loss: 0.0121 - accuracy: 1.0000\n",
      "Epoch 86/100\n",
      "145/145 [==============================] - ETA: 0s - loss: 0.0317 - accuracy: 1.00 - 0s 159us/sample - loss: 0.0207 - accuracy: 0.9931\n",
      "Epoch 87/100\n",
      "145/145 [==============================] - 0s 131us/sample - loss: 0.5038 - accuracy: 0.8414\n",
      "Epoch 88/100\n",
      "145/145 [==============================] - 0s 193us/sample - loss: 0.0532 - accuracy: 0.9862\n",
      "Epoch 89/100\n",
      "145/145 [==============================] - 0s 186us/sample - loss: 0.0155 - accuracy: 1.0000\n",
      "Epoch 90/100\n",
      "145/145 [==============================] - 0s 159us/sample - loss: 0.0119 - accuracy: 1.0000\n",
      "Epoch 91/100\n",
      "145/145 [==============================] - 0s 165us/sample - loss: 0.0144 - accuracy: 1.0000\n",
      "Epoch 92/100\n",
      "145/145 [==============================] - 0s 172us/sample - loss: 0.0090 - accuracy: 1.0000\n",
      "Epoch 93/100\n",
      "145/145 [==============================] - 0s 159us/sample - loss: 0.7838 - accuracy: 0.8414\n",
      "Epoch 94/100\n",
      "145/145 [==============================] - 0s 145us/sample - loss: 0.0639 - accuracy: 0.9724\n",
      "Epoch 95/100\n",
      "145/145 [==============================] - 0s 214us/sample - loss: 0.0121 - accuracy: 1.0000\n",
      "Epoch 96/100\n",
      "145/145 [==============================] - 0s 207us/sample - loss: 0.0074 - accuracy: 1.0000\n",
      "Epoch 97/100\n",
      "145/145 [==============================] - 0s 165us/sample - loss: 0.0115 - accuracy: 1.0000\n",
      "Epoch 98/100\n",
      "145/145 [==============================] - 0s 207us/sample - loss: 0.0051 - accuracy: 1.0000\n",
      "Epoch 99/100\n",
      "145/145 [==============================] - 0s 159us/sample - loss: 0.0072 - accuracy: 1.0000\n",
      "Epoch 100/100\n",
      "145/145 [==============================] - 0s 179us/sample - loss: 0.0067 - accuracy: 1.0000\n"
     ]
    },
    {
     "data": {
      "text/plain": [
       "<tensorflow.python.keras.callbacks.History at 0x1e9e8789488>"
      ]
     },
     "execution_count": 10,
     "metadata": {},
     "output_type": "execute_result"
    }
   ],
   "source": [
    "model.fit(Train_Data, Train_Label, epochs=100)"
   ]
  },
  {
   "cell_type": "code",
   "execution_count": 11,
   "metadata": {},
   "outputs": [
    {
     "name": "stdout",
     "output_type": "stream",
     "text": [
      "\r",
      "43/1 [==========================================================================================================================================================================================================================================================================================================================================================================================================================================================================================================================================================================================================================================================================================================================================================================================================================================================================================================================================================================================================================================================================================================================================================================================================================================================================================================================================] - 0s 4ms/sample - loss: 0.8062 - accuracy: 0.8372\n"
     ]
    }
   ],
   "source": [
    "evaluation = model.evaluate(Test_Data,Test_Label, verbose=1)"
   ]
  },
  {
   "cell_type": "markdown",
   "metadata": {},
   "source": [
    "# 7) fit model wit validation (with history)"
   ]
  },
  {
   "cell_type": "code",
   "execution_count": 12,
   "metadata": {},
   "outputs": [],
   "source": [
    "model = tensorflow.keras.Sequential([\n",
    "    tensorflow.keras.layers.Dense(60, activation='relu', input_shape=(60,)),\n",
    "    tensorflow.keras.layers.Dense(40, activation='relu'),\n",
    "    tensorflow.keras.layers.Dropout(0.2),\n",
    "    tensorflow.keras.layers.Dense(2, activation='softmax'),\n",
    "])"
   ]
  },
  {
   "cell_type": "code",
   "execution_count": 13,
   "metadata": {},
   "outputs": [],
   "source": [
    "model.compile(\n",
    "    optimizer=tensorflow.keras.optimizers.RMSprop(learning_rate=0.01),\n",
    "    loss='categorical_crossentropy',\n",
    "    metrics=['accuracy']\n",
    ")"
   ]
  },
  {
   "cell_type": "code",
   "execution_count": 14,
   "metadata": {},
   "outputs": [
    {
     "name": "stdout",
     "output_type": "stream",
     "text": [
      "Train on 145 samples, validate on 20 samples\n",
      "Epoch 1/100\n",
      "145/145 [==============================] - 1s 8ms/sample - loss: 0.9122 - accuracy: 0.5586 - val_loss: 0.6911 - val_accuracy: 0.5500\n",
      "Epoch 2/100\n",
      "145/145 [==============================] - 0s 721us/sample - loss: 0.6741 - accuracy: 0.6000 - val_loss: 0.6832 - val_accuracy: 0.6000\n",
      "Epoch 3/100\n",
      "145/145 [==============================] - 0s 544us/sample - loss: 0.6909 - accuracy: 0.5448 - val_loss: 0.5548 - val_accuracy: 0.7000\n",
      "Epoch 4/100\n",
      "145/145 [==============================] - 0s 496us/sample - loss: 0.6043 - accuracy: 0.7172 - val_loss: 0.7371 - val_accuracy: 0.4500\n",
      "Epoch 5/100\n",
      "145/145 [==============================] - 0s 427us/sample - loss: 0.6649 - accuracy: 0.6138 - val_loss: 0.7034 - val_accuracy: 0.4500\n",
      "Epoch 6/100\n",
      "145/145 [==============================] - 0s 469us/sample - loss: 0.5829 - accuracy: 0.7034 - val_loss: 0.4456 - val_accuracy: 0.8500\n",
      "Epoch 7/100\n",
      "145/145 [==============================] - 0s 446us/sample - loss: 0.5383 - accuracy: 0.7379 - val_loss: 0.9153 - val_accuracy: 0.4000\n",
      "Epoch 8/100\n",
      "145/145 [==============================] - 0s 469us/sample - loss: 0.5471 - accuracy: 0.7103 - val_loss: 0.5514 - val_accuracy: 0.7000\n",
      "Epoch 9/100\n",
      "145/145 [==============================] - 0s 430us/sample - loss: 0.5480 - accuracy: 0.7379 - val_loss: 0.3892 - val_accuracy: 0.8500\n",
      "Epoch 10/100\n",
      "145/145 [==============================] - 0s 458us/sample - loss: 0.4608 - accuracy: 0.8069 - val_loss: 0.3749 - val_accuracy: 0.8500\n",
      "Epoch 11/100\n",
      "145/145 [==============================] - 0s 429us/sample - loss: 0.5569 - accuracy: 0.6690 - val_loss: 0.3991 - val_accuracy: 0.8500\n",
      "Epoch 12/100\n",
      "145/145 [==============================] - 0s 472us/sample - loss: 0.4274 - accuracy: 0.8414 - val_loss: 0.3531 - val_accuracy: 0.8000\n",
      "Epoch 13/100\n",
      "145/145 [==============================] - 0s 429us/sample - loss: 0.6585 - accuracy: 0.6828 - val_loss: 0.3975 - val_accuracy: 0.8500\n",
      "Epoch 14/100\n",
      "145/145 [==============================] - 0s 463us/sample - loss: 0.4590 - accuracy: 0.7862 - val_loss: 0.3432 - val_accuracy: 0.9000\n",
      "Epoch 15/100\n",
      "145/145 [==============================] - 0s 438us/sample - loss: 0.4248 - accuracy: 0.7862 - val_loss: 0.3696 - val_accuracy: 0.8000\n",
      "Epoch 16/100\n",
      "145/145 [==============================] - 0s 469us/sample - loss: 0.3935 - accuracy: 0.8345 - val_loss: 0.3648 - val_accuracy: 0.9000\n",
      "Epoch 17/100\n",
      "145/145 [==============================] - 0s 441us/sample - loss: 0.3928 - accuracy: 0.7931 - val_loss: 0.3775 - val_accuracy: 0.8000\n",
      "Epoch 18/100\n",
      "145/145 [==============================] - 0s 451us/sample - loss: 0.4881 - accuracy: 0.7172 - val_loss: 0.3175 - val_accuracy: 0.9000\n",
      "Epoch 19/100\n",
      "145/145 [==============================] - 0s 448us/sample - loss: 0.3368 - accuracy: 0.8345 - val_loss: 0.4216 - val_accuracy: 0.7500\n",
      "Epoch 20/100\n",
      "145/145 [==============================] - 0s 455us/sample - loss: 0.4493 - accuracy: 0.7724 - val_loss: 0.6710 - val_accuracy: 0.6000\n",
      "Epoch 21/100\n",
      "145/145 [==============================] - 0s 484us/sample - loss: 0.3979 - accuracy: 0.8069 - val_loss: 0.4882 - val_accuracy: 0.6500\n",
      "Epoch 22/100\n",
      "145/145 [==============================] - 0s 662us/sample - loss: 0.3472 - accuracy: 0.8552 - val_loss: 0.3926 - val_accuracy: 0.8000\n",
      "Epoch 23/100\n",
      "145/145 [==============================] - 0s 593us/sample - loss: 0.4933 - accuracy: 0.8138 - val_loss: 0.3662 - val_accuracy: 0.8000\n",
      "Epoch 24/100\n",
      "145/145 [==============================] - 0s 641us/sample - loss: 0.3629 - accuracy: 0.8345 - val_loss: 0.5601 - val_accuracy: 0.6000\n",
      "Epoch 25/100\n",
      "145/145 [==============================] - 0s 614us/sample - loss: 0.3232 - accuracy: 0.8414 - val_loss: 0.3607 - val_accuracy: 0.8000\n",
      "Epoch 26/100\n",
      "145/145 [==============================] - 0s 648us/sample - loss: 0.3505 - accuracy: 0.8276 - val_loss: 0.5245 - val_accuracy: 0.8000\n",
      "Epoch 27/100\n",
      "145/145 [==============================] - 0s 596us/sample - loss: 0.4105 - accuracy: 0.8207 - val_loss: 0.3191 - val_accuracy: 0.8000\n",
      "Epoch 28/100\n",
      "145/145 [==============================] - 0s 613us/sample - loss: 0.3593 - accuracy: 0.8345 - val_loss: 0.3461 - val_accuracy: 0.8500\n",
      "Epoch 29/100\n",
      "145/145 [==============================] - 0s 565us/sample - loss: 0.3912 - accuracy: 0.8276 - val_loss: 0.5552 - val_accuracy: 0.6500\n",
      "Epoch 30/100\n",
      "145/145 [==============================] - 0s 538us/sample - loss: 0.3025 - accuracy: 0.8759 - val_loss: 0.3012 - val_accuracy: 0.8500\n",
      "Epoch 31/100\n",
      "145/145 [==============================] - 0s 434us/sample - loss: 0.2842 - accuracy: 0.8621 - val_loss: 0.3733 - val_accuracy: 0.8000\n",
      "Epoch 32/100\n",
      "145/145 [==============================] - 0s 434us/sample - loss: 0.2700 - accuracy: 0.8690 - val_loss: 0.4185 - val_accuracy: 0.7500\n",
      "Epoch 33/100\n",
      "145/145 [==============================] - 0s 462us/sample - loss: 0.2531 - accuracy: 0.8690 - val_loss: 0.4014 - val_accuracy: 0.8000\n",
      "Epoch 34/100\n",
      "145/145 [==============================] - 0s 510us/sample - loss: 0.4409 - accuracy: 0.7862 - val_loss: 0.3471 - val_accuracy: 0.8000\n",
      "Epoch 35/100\n",
      "145/145 [==============================] - 0s 565us/sample - loss: 0.2744 - accuracy: 0.8621 - val_loss: 1.0092 - val_accuracy: 0.6000\n",
      "Epoch 36/100\n",
      "145/145 [==============================] - 0s 641us/sample - loss: 0.3649 - accuracy: 0.8276 - val_loss: 0.8592 - val_accuracy: 0.6000\n",
      "Epoch 37/100\n",
      "145/145 [==============================] - 0s 655us/sample - loss: 0.3388 - accuracy: 0.8828 - val_loss: 0.3056 - val_accuracy: 0.8500\n",
      "Epoch 38/100\n",
      "145/145 [==============================] - 0s 586us/sample - loss: 0.3984 - accuracy: 0.7862 - val_loss: 0.3688 - val_accuracy: 0.8000\n",
      "Epoch 39/100\n",
      "145/145 [==============================] - 0s 593us/sample - loss: 0.3295 - accuracy: 0.8690 - val_loss: 0.3590 - val_accuracy: 0.8000\n",
      "Epoch 40/100\n",
      "145/145 [==============================] - 0s 655us/sample - loss: 0.2945 - accuracy: 0.8759 - val_loss: 0.3621 - val_accuracy: 0.8000\n",
      "Epoch 41/100\n",
      "145/145 [==============================] - 0s 579us/sample - loss: 0.3185 - accuracy: 0.8483 - val_loss: 0.3415 - val_accuracy: 0.8000\n",
      "Epoch 42/100\n",
      "145/145 [==============================] - 0s 648us/sample - loss: 0.2301 - accuracy: 0.8897 - val_loss: 0.3822 - val_accuracy: 0.8000\n",
      "Epoch 43/100\n",
      "145/145 [==============================] - 0s 600us/sample - loss: 0.2477 - accuracy: 0.8759 - val_loss: 0.3917 - val_accuracy: 0.8000\n",
      "Epoch 44/100\n",
      "145/145 [==============================] - 0s 751us/sample - loss: 0.3295 - accuracy: 0.8276 - val_loss: 0.2680 - val_accuracy: 0.8500\n",
      "Epoch 45/100\n",
      "145/145 [==============================] - 0s 593us/sample - loss: 0.1985 - accuracy: 0.9172 - val_loss: 0.5630 - val_accuracy: 0.7000\n",
      "Epoch 46/100\n",
      "145/145 [==============================] - 0s 613us/sample - loss: 0.2530 - accuracy: 0.9103 - val_loss: 0.5079 - val_accuracy: 0.8000\n",
      "Epoch 47/100\n",
      "145/145 [==============================] - 0s 607us/sample - loss: 0.3356 - accuracy: 0.8621 - val_loss: 0.2836 - val_accuracy: 0.8500\n",
      "Epoch 48/100\n",
      "145/145 [==============================] - 0s 607us/sample - loss: 0.2751 - accuracy: 0.8621 - val_loss: 0.4424 - val_accuracy: 0.7500\n",
      "Epoch 49/100\n",
      "145/145 [==============================] - 0s 641us/sample - loss: 0.2045 - accuracy: 0.9448 - val_loss: 0.3617 - val_accuracy: 0.8000\n",
      "Epoch 50/100\n",
      "145/145 [==============================] - 0s 669us/sample - loss: 0.2949 - accuracy: 0.8276 - val_loss: 0.4973 - val_accuracy: 0.6000\n",
      "Epoch 51/100\n",
      "145/145 [==============================] - 0s 607us/sample - loss: 0.1817 - accuracy: 0.9241 - val_loss: 0.3659 - val_accuracy: 0.8000\n",
      "Epoch 52/100\n",
      "145/145 [==============================] - 0s 607us/sample - loss: 0.2732 - accuracy: 0.8621 - val_loss: 0.4508 - val_accuracy: 0.7500\n",
      "Epoch 53/100\n",
      "145/145 [==============================] - 0s 648us/sample - loss: 0.1805 - accuracy: 0.9103 - val_loss: 0.8717 - val_accuracy: 0.6500\n",
      "Epoch 54/100\n",
      "145/145 [==============================] - 0s 627us/sample - loss: 0.3719 - accuracy: 0.8069 - val_loss: 0.2905 - val_accuracy: 0.7500\n",
      "Epoch 55/100\n",
      "145/145 [==============================] - 0s 669us/sample - loss: 0.1395 - accuracy: 0.9655 - val_loss: 0.2966 - val_accuracy: 0.8000\n",
      "Epoch 56/100\n"
     ]
    },
    {
     "name": "stdout",
     "output_type": "stream",
     "text": [
      "145/145 [==============================] - 0s 627us/sample - loss: 0.1425 - accuracy: 0.9448 - val_loss: 0.6679 - val_accuracy: 0.7000\n",
      "Epoch 57/100\n",
      "145/145 [==============================] - 0s 503us/sample - loss: 0.2129 - accuracy: 0.8897 - val_loss: 0.3792 - val_accuracy: 0.8000\n",
      "Epoch 58/100\n",
      "145/145 [==============================] - 0s 407us/sample - loss: 0.2722 - accuracy: 0.8690 - val_loss: 0.2285 - val_accuracy: 0.8500\n",
      "Epoch 59/100\n",
      "145/145 [==============================] - 0s 373us/sample - loss: 0.1307 - accuracy: 0.9724 - val_loss: 0.4795 - val_accuracy: 0.7500\n",
      "Epoch 60/100\n",
      "145/145 [==============================] - 0s 562us/sample - loss: 0.2723 - accuracy: 0.8552 - val_loss: 0.3078 - val_accuracy: 0.8000\n",
      "Epoch 61/100\n",
      "145/145 [==============================] - 0s 545us/sample - loss: 0.1264 - accuracy: 0.9586 - val_loss: 0.4550 - val_accuracy: 0.7500\n",
      "Epoch 62/100\n",
      "145/145 [==============================] - 0s 565us/sample - loss: 0.1494 - accuracy: 0.9448 - val_loss: 0.2192 - val_accuracy: 0.9000\n",
      "Epoch 63/100\n",
      "145/145 [==============================] - 0s 572us/sample - loss: 0.0975 - accuracy: 0.9862 - val_loss: 0.4497 - val_accuracy: 0.8500\n",
      "Epoch 64/100\n",
      "145/145 [==============================] - 0s 551us/sample - loss: 0.5133 - accuracy: 0.8069 - val_loss: 0.3351 - val_accuracy: 0.8000\n",
      "Epoch 65/100\n",
      "145/145 [==============================] - 0s 448us/sample - loss: 0.1734 - accuracy: 0.9517 - val_loss: 0.2448 - val_accuracy: 0.8000\n",
      "Epoch 66/100\n",
      "145/145 [==============================] - 0s 404us/sample - loss: 0.1515 - accuracy: 0.9172 - val_loss: 0.3017 - val_accuracy: 0.8000\n",
      "Epoch 67/100\n",
      "145/145 [==============================] - 0s 394us/sample - loss: 0.1867 - accuracy: 0.8966 - val_loss: 0.3804 - val_accuracy: 0.8500\n",
      "Epoch 68/100\n",
      "145/145 [==============================] - 0s 439us/sample - loss: 0.1154 - accuracy: 0.9517 - val_loss: 0.2735 - val_accuracy: 0.8000\n",
      "Epoch 69/100\n",
      "145/145 [==============================] - 0s 427us/sample - loss: 0.1516 - accuracy: 0.9241 - val_loss: 0.2675 - val_accuracy: 0.8000\n",
      "Epoch 70/100\n",
      "145/145 [==============================] - 0s 422us/sample - loss: 0.1106 - accuracy: 0.9586 - val_loss: 0.5136 - val_accuracy: 0.8000\n",
      "Epoch 71/100\n",
      "145/145 [==============================] - 0s 447us/sample - loss: 0.2334 - accuracy: 0.8897 - val_loss: 0.3408 - val_accuracy: 0.8500\n",
      "Epoch 72/100\n",
      "145/145 [==============================] - 0s 482us/sample - loss: 0.1001 - accuracy: 0.9793 - val_loss: 0.5199 - val_accuracy: 0.6500\n",
      "Epoch 73/100\n",
      "145/145 [==============================] - 0s 447us/sample - loss: 0.1767 - accuracy: 0.8897 - val_loss: 0.8455 - val_accuracy: 0.7000\n",
      "Epoch 74/100\n",
      "145/145 [==============================] - 0s 565us/sample - loss: 0.2142 - accuracy: 0.9172 - val_loss: 0.1989 - val_accuracy: 0.9000\n",
      "Epoch 75/100\n",
      "145/145 [==============================] - 0s 558us/sample - loss: 0.0748 - accuracy: 0.9724 - val_loss: 1.4759 - val_accuracy: 0.6500\n",
      "Epoch 76/100\n",
      "145/145 [==============================] - 0s 538us/sample - loss: 0.4428 - accuracy: 0.8483 - val_loss: 0.3042 - val_accuracy: 0.7500\n",
      "Epoch 77/100\n",
      "145/145 [==============================] - 0s 407us/sample - loss: 0.0972 - accuracy: 0.9793 - val_loss: 0.3136 - val_accuracy: 0.8500\n",
      "Epoch 78/100\n",
      "145/145 [==============================] - 0s 436us/sample - loss: 0.0833 - accuracy: 0.9655 - val_loss: 0.2550 - val_accuracy: 0.8000\n",
      "Epoch 79/100\n",
      "145/145 [==============================] - 0s 420us/sample - loss: 0.0689 - accuracy: 0.9793 - val_loss: 0.5407 - val_accuracy: 0.8500\n",
      "Epoch 80/100\n",
      "145/145 [==============================] - 0s 441us/sample - loss: 0.5448 - accuracy: 0.8621 - val_loss: 0.2759 - val_accuracy: 0.8500\n",
      "Epoch 81/100\n",
      "145/145 [==============================] - 0s 420us/sample - loss: 0.0920 - accuracy: 0.9724 - val_loss: 0.1618 - val_accuracy: 0.9500\n",
      "Epoch 82/100\n",
      "145/145 [==============================] - 0s 441us/sample - loss: 0.0625 - accuracy: 0.9793 - val_loss: 0.2091 - val_accuracy: 0.8500\n",
      "Epoch 83/100\n",
      "145/145 [==============================] - 0s 398us/sample - loss: 0.0560 - accuracy: 0.9793 - val_loss: 0.3288 - val_accuracy: 0.8500\n",
      "Epoch 84/100\n",
      "145/145 [==============================] - 0s 478us/sample - loss: 0.0563 - accuracy: 0.9862 - val_loss: 0.1388 - val_accuracy: 0.9500\n",
      "Epoch 85/100\n",
      "145/145 [==============================] - 0s 524us/sample - loss: 0.0579 - accuracy: 0.9655 - val_loss: 0.3657 - val_accuracy: 0.8000\n",
      "Epoch 86/100\n",
      "145/145 [==============================] - 0s 441us/sample - loss: 0.2730 - accuracy: 0.9172 - val_loss: 1.1786 - val_accuracy: 0.8000\n",
      "Epoch 87/100\n",
      "145/145 [==============================] - 0s 427us/sample - loss: 0.2338 - accuracy: 0.9172 - val_loss: 0.1916 - val_accuracy: 0.9000\n",
      "Epoch 88/100\n",
      "145/145 [==============================] - 0s 427us/sample - loss: 0.0515 - accuracy: 0.9862 - val_loss: 0.1788 - val_accuracy: 0.9000\n",
      "Epoch 89/100\n",
      "145/145 [==============================] - 0s 412us/sample - loss: 0.0394 - accuracy: 0.9862 - val_loss: 0.2205 - val_accuracy: 0.9000\n",
      "Epoch 90/100\n",
      "145/145 [==============================] - 0s 468us/sample - loss: 0.0639 - accuracy: 0.9793 - val_loss: 0.3155 - val_accuracy: 0.8500\n",
      "Epoch 91/100\n",
      "145/145 [==============================] - 0s 419us/sample - loss: 0.1956 - accuracy: 0.9172 - val_loss: 0.2233 - val_accuracy: 0.9000\n",
      "Epoch 92/100\n",
      "145/145 [==============================] - 0s 452us/sample - loss: 0.0407 - accuracy: 0.9862 - val_loss: 0.2584 - val_accuracy: 0.8500\n",
      "Epoch 93/100\n",
      "145/145 [==============================] - 0s 423us/sample - loss: 0.0309 - accuracy: 0.9862 - val_loss: 0.1661 - val_accuracy: 0.9500\n",
      "Epoch 94/100\n",
      "145/145 [==============================] - 0s 414us/sample - loss: 0.1557 - accuracy: 0.9448 - val_loss: 0.4712 - val_accuracy: 0.8500\n",
      "Epoch 95/100\n",
      "145/145 [==============================] - 0s 441us/sample - loss: 0.3623 - accuracy: 0.8828 - val_loss: 0.2665 - val_accuracy: 0.8500\n",
      "Epoch 96/100\n",
      "145/145 [==============================] - 0s 440us/sample - loss: 0.0597 - accuracy: 0.9724 - val_loss: 0.2996 - val_accuracy: 0.8500\n",
      "Epoch 97/100\n",
      "145/145 [==============================] - 0s 413us/sample - loss: 0.2621 - accuracy: 0.9034 - val_loss: 0.2052 - val_accuracy: 0.8500\n",
      "Epoch 98/100\n",
      "145/145 [==============================] - 0s 445us/sample - loss: 0.0371 - accuracy: 1.0000 - val_loss: 0.1755 - val_accuracy: 0.9500\n",
      "Epoch 99/100\n",
      "145/145 [==============================] - 0s 407us/sample - loss: 0.0348 - accuracy: 0.9862 - val_loss: 0.0602 - val_accuracy: 1.0000\n",
      "Epoch 100/100\n",
      "145/145 [==============================] - 0s 490us/sample - loss: 0.1334 - accuracy: 0.9379 - val_loss: 0.6103 - val_accuracy: 0.7000\n"
     ]
    }
   ],
   "source": [
    "history = model.fit(Train_Data,\n",
    "Train_Label,\n",
    "epochs=100,\n",
    "validation_data=(Vali_Data, Vali_Label))"
   ]
  },
  {
   "cell_type": "code",
   "execution_count": 15,
   "metadata": {},
   "outputs": [
    {
     "name": "stdout",
     "output_type": "stream",
     "text": [
      "\r",
      "43/1 [==========================================================================================================================================================================================================================================================================================================================================================================================================================================================================================================================================================================================================================================================================================================================================================================================================================================================================================================================================================================================================================================================================================================================================================================================================================================================================================================================================] - 0s 0s/sample - loss: 1.0136 - accuracy: 0.6744\n"
     ]
    }
   ],
   "source": [
    "evaluation2 = model.evaluate(Test_Data,Test_Label, verbose=1)"
   ]
  },
  {
   "cell_type": "markdown",
   "metadata": {},
   "source": [
    "# 8) create graph"
   ]
  },
  {
   "cell_type": "code",
   "execution_count": 18,
   "metadata": {
    "scrolled": true
   },
   "outputs": [
    {
     "data": {
      "image/png": "[encoded data removed]",
      "text/plain": [
       "<Figure size 432x288 with 1 Axes>"
      ]
     },
     "metadata": {
      "needs_background": "light"
     },
     "output_type": "display_data"
    }
   ],
   "source": [
    "import matplotlib.pyplot as plt\n",
    "loss = history.history['loss']\n",
    "val_loss = history.history['val_loss']\n",
    "epochs = range(1, len(loss) + 1)\n",
    "plt.plot(epochs, loss, 'bo', label='Training loss')\n",
    "plt.plot(epochs, val_loss, 'b', label='Validation loss')\n",
    "plt.title('Training and validation loss')\n",
    "plt.xlabel('Epochs')\n",
    "plt.ylabel('Loss')\n",
    "plt.legend()\n",
    "plt.show()"
   ]
  },
  {
   "cell_type": "code",
   "execution_count": 19,
   "metadata": {},
   "outputs": [
    {
     "data": {
      "image/png": "[encoded data removed]",
      "text/plain": [
       "<Figure size 432x288 with 1 Axes>"
      ]
     },
     "metadata": {
      "needs_background": "light"
     },
     "output_type": "display_data"
    }
   ],
   "source": [
    "plt.clf()\n",
    "acc = history.history['accuracy']\n",
    "val_acc = history.history['val_accuracy']\n",
    "plt.plot(epochs, acc, 'bo', label='Training acc')\n",
    "plt.plot(epochs, val_acc, 'b', label='Validation acc')\n",
    "plt.title('Training and validation accuracy')\n",
    "plt.xlabel('Epochs')\n",
    "plt.ylabel('Loss')\n",
    "plt.legend()\n",
    "plt.show()"
   ]
  },
  {
   "cell_type": "markdown",
   "metadata": {},
   "source": [
    "# 9) Introduce k-fold, as data is limited"
   ]
  },
  {
   "cell_type": "code",
   "execution_count": 20,
   "metadata": {},
   "outputs": [],
   "source": [
    "df = df1.copy(deep=True)\n",
    "\n",
    "total = df.iloc[:,60].unique().shape[0]\n",
    "df.replace(df.iloc[:,60].unique(), [x for x in range(total)], inplace=True)\n",
    "\n",
    "Train_Data = df.iloc[:166,:60].to_numpy()\n",
    "Train_Label = tensorflow.keras.utils.to_categorical(df.iloc[:166,60])\n",
    "Test_Data = df.iloc[166:,:60].to_numpy()\n",
    "Test_Label = tensorflow.keras.utils.to_categorical(df.iloc[166:,60])\n",
    "\n",
    "\n",
    "def build_model():\n",
    "    model = tensorflow.keras.Sequential([\n",
    "    tensorflow.keras.layers.Dense(60, activation='relu', input_shape=(60,)),\n",
    "    tensorflow.keras.layers.Dense(40, activation='relu'),\n",
    "    tensorflow.keras.layers.Dropout(0.2),\n",
    "    tensorflow.keras.layers.Dense(2, activation='softmax'),\n",
    "    ])\n",
    "    model.compile(\n",
    "        optimizer=tensorflow.keras.optimizers.RMSprop(learning_rate=0.01),\n",
    "        loss='categorical_crossentropy',\n",
    "        metrics=['accuracy'])\n",
    "    return model\n",
    "        "
   ]
  },
  {
   "cell_type": "code",
   "execution_count": 21,
   "metadata": {},
   "outputs": [
    {
     "name": "stdout",
     "output_type": "stream",
     "text": [
      "processing fold # 0\n",
      "processing fold # 1\n",
      "processing fold # 2\n",
      "processing fold # 3\n"
     ]
    }
   ],
   "source": [
    "k = 4\n",
    "num_val_samples = len(Train_Data) // k\n",
    "num_epochs = 100\n",
    "all_scores = []\n",
    "\n",
    "for i in range(k):\n",
    "    print('processing fold #', i)\n",
    "    val_data = Train_Data[i * num_val_samples: (i + 1) * num_val_samples]\n",
    "    val_targets = Train_Label[i * num_val_samples: (i + 1) * num_val_samples]\n",
    "    partial_train_data = np.concatenate(\n",
    "        [Train_Data[:i * num_val_samples],\n",
    "        Train_Data[(i + 1) * num_val_samples:]],\n",
    "        axis=0)\n",
    "    partial_train_targets = np.concatenate(\n",
    "        [Train_Label[:i * num_val_samples],\n",
    "        Train_Label[(i + 1) * num_val_samples:]],\n",
    "        axis=0)\n",
    "    model = build_model()\n",
    "    model.fit(partial_train_data, partial_train_targets,\n",
    "        epochs=num_epochs, batch_size=1, verbose=0)\n",
    "    val_mse, val_mae = model.evaluate(val_data, val_targets, verbose=0)\n",
    "    all_scores.append(val_mae)"
   ]
  },
  {
   "cell_type": "code",
   "execution_count": 22,
   "metadata": {},
   "outputs": [
    {
     "name": "stdout",
     "output_type": "stream",
     "text": [
      "0.7743903\n"
     ]
    }
   ],
   "source": [
    "print(np.mean(all_scores))"
   ]
  },
  {
   "cell_type": "markdown",
   "metadata": {},
   "source": [
    "# 10) tune nework accuracy by ephoc numbers, change of optimizer, batch size, hidden layers, number of nueron, "
   ]
  },
  {
   "cell_type": "code",
   "execution_count": null,
   "metadata": {},
   "outputs": [],
   "source": []
  },
  {
   "cell_type": "code",
   "execution_count": null,
   "metadata": {},
   "outputs": [],
   "source": []
  },
  {
   "cell_type": "code",
   "execution_count": null,
   "metadata": {},
   "outputs": [],
   "source": []
  }
 ],
 "metadata": {
  "kernelspec": {
   "display_name": "Python 3",
   "language": "python",
   "name": "python3"
  },
  "language_info": {
   "codemirror_mode": {
    "name": "ipython",
    "version": 3
   },
   "file_extension": ".py",
   "mimetype": "text/x-python",
   "name": "python",
   "nbconvert_exporter": "python",
   "pygments_lexer": "ipython3",
   "version": "3.7.4"
  }
 },
 "nbformat": 4,
 "nbformat_minor": 2
}
