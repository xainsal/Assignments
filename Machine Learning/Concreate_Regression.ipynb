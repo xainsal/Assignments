{
 "cells": [
  {
   "cell_type": "code",
   "execution_count": 1,
   "metadata": {},
   "outputs": [],
   "source": [
    "import pandas as pd\n",
    "import tensorflow\n",
    "import numpy as np\n",
    "import seaborn as sns"
   ]
  },
  {
   "cell_type": "code",
   "execution_count": 2,
   "metadata": {},
   "outputs": [],
   "source": [
    "df2 = pd.read_csv('CSV/concrete.csv', header=None, skiprows=1)"
   ]
  },
  {
   "cell_type": "code",
   "execution_count": 3,
   "metadata": {},
   "outputs": [
    {
     "data": {
      "text/plain": [
       "(1030, 9)"
      ]
     },
     "execution_count": 3,
     "metadata": {},
     "output_type": "execute_result"
    }
   ],
   "source": [
    "df2.shape"
   ]
  },
  {
   "cell_type": "code",
   "execution_count": 4,
   "metadata": {},
   "outputs": [],
   "source": [
    "df1 = df2.sample(frac=1)"
   ]
  },
  {
   "cell_type": "code",
   "execution_count": 6,
   "metadata": {},
   "outputs": [
    {
     "data": {
      "text/plain": [
       "1030"
      ]
     },
     "execution_count": 6,
     "metadata": {},
     "output_type": "execute_result"
    }
   ],
   "source": [
    "train = int(df1.shape[0] / 100 * 70)\n",
    "valdte = int(df1.shape[0] /100 * 20) + train\n",
    "test = int(df1.shape[0] - valdte)\n",
    "\n",
    "valdte + test"
   ]
  },
  {
   "cell_type": "code",
   "execution_count": 7,
   "metadata": {},
   "outputs": [
    {
     "name": "stdout",
     "output_type": "stream",
     "text": [
      "(927, 8)\n",
      "(927,)\n",
      "(103, 8)\n",
      "(103,)\n",
      "\n",
      "(721, 8)\n",
      "(721,)\n",
      "(206, 8)\n",
      "(206,)\n",
      "(103, 8)\n",
      "(103,)\n"
     ]
    }
   ],
   "source": [
    "df = df1.copy(deep=True)\n",
    "\n",
    "Train_Data = df.iloc[:valdte, :8].to_numpy()\n",
    "Train_Label = df.iloc[:valdte, -1].to_numpy()\n",
    "\n",
    "Test_Data = df.iloc[valdte:, :8].to_numpy()\n",
    "Test_Label = df.iloc[valdte:, -1].to_numpy()\n",
    "\n",
    "print(Train_Data.shape)\n",
    "print(Train_Label.shape)\n",
    "print(Test_Data.shape)\n",
    "print(Test_Label.shape)\n",
    "\n",
    "mean = Train_Data.mean(axis=0)\n",
    "Train_Data -= mean\n",
    "std = Train_Data.std(axis=0)\n",
    "Train_Data /= std\n",
    "Test_Data -= mean\n",
    "Test_Data /= std\n",
    "\n",
    "Validte_Data = Train_Data[train:]\n",
    "Validte_Label = Train_Label[train:]\n",
    "Train_Data = Train_Data[:train]\n",
    "Train_Label = Train_Label[:train]\n",
    "\n",
    "print(f'\\n{Train_Data.shape}')\n",
    "print(Train_Label.shape)\n",
    "print(Validte_Data.shape)\n",
    "print(Validte_Label.shape)\n",
    "print(Test_Data.shape)\n",
    "print(Test_Label.shape)"
   ]
  },
  {
   "cell_type": "code",
   "execution_count": 8,
   "metadata": {},
   "outputs": [],
   "source": [
    "from tensorflow.keras import models\n",
    "from tensorflow.keras import layers\n",
    "\n",
    "def build_model():\n",
    "    model = models.Sequential()\n",
    "    model.add(layers.Dense(12, activation='relu',\n",
    "        input_shape=(Train_Data.shape[1],)))\n",
    "    model.add(layers.Dense(12, activation='relu'))\n",
    "    model.add(layers.Dense(1))\n",
    "    model.compile(optimizer='rmsprop', loss='mse', metrics=['mae'])\n",
    "    return model"
   ]
  },
  {
   "cell_type": "code",
   "execution_count": 9,
   "metadata": {},
   "outputs": [
    {
     "name": "stdout",
     "output_type": "stream",
     "text": [
      "Train on 721 samples, validate on 206 samples\n",
      "Epoch 1/13\n",
      "721/721 [==============================] - 1s 2ms/sample - loss: 1501.0178 - mae: 34.9584 - val_loss: 1477.2298 - val_mae: 34.5810\n",
      "Epoch 2/13\n",
      "721/721 [==============================] - 0s 118us/sample - loss: 1464.2939 - mae: 34.4454 - val_loss: 1440.7906 - val_mae: 34.0659\n",
      "Epoch 3/13\n",
      "721/721 [==============================] - 0s 116us/sample - loss: 1424.2340 - mae: 33.8870 - val_loss: 1398.5770 - val_mae: 33.4631\n",
      "Epoch 4/13\n",
      "721/721 [==============================] - 0s 136us/sample - loss: 1378.9450 - mae: 33.2430 - val_loss: 1351.0364 - val_mae: 32.7744\n",
      "Epoch 5/13\n",
      "721/721 [==============================] - 0s 114us/sample - loss: 1325.7151 - mae: 32.4819 - val_loss: 1295.3239 - val_mae: 31.9491\n",
      "Epoch 6/13\n",
      "721/721 [==============================] - 0s 116us/sample - loss: 1265.0143 - mae: 31.5973 - val_loss: 1231.5561 - val_mae: 30.9961\n",
      "Epoch 7/13\n",
      "721/721 [==============================] - 0s 94us/sample - loss: 1197.3317 - mae: 30.5624 - val_loss: 1161.7180 - val_mae: 29.9284\n",
      "Epoch 8/13\n",
      "721/721 [==============================] - 0s 93us/sample - loss: 1121.7542 - mae: 29.4058 - val_loss: 1083.7503 - val_mae: 28.6942\n",
      "Epoch 9/13\n",
      "721/721 [==============================] - 0s 94us/sample - loss: 1039.0139 - mae: 28.0893 - val_loss: 998.6516 - val_mae: 27.2995\n",
      "Epoch 10/13\n",
      "721/721 [==============================] - 0s 116us/sample - loss: 950.7617 - mae: 26.6467 - val_loss: 910.7838 - val_mae: 25.7711\n",
      "Epoch 11/13\n",
      "721/721 [==============================] - 0s 94us/sample - loss: 858.3464 - mae: 25.0648 - val_loss: 816.4841 - val_mae: 24.0760\n",
      "Epoch 12/13\n",
      "721/721 [==============================] - 0s 139us/sample - loss: 761.3952 - mae: 23.3582 - val_loss: 720.3939 - val_mae: 22.2780\n",
      "Epoch 13/13\n",
      "721/721 [==============================] - 0s 91us/sample - loss: 663.3319 - mae: 21.5506 - val_loss: 623.1097 - val_mae: 20.3707\n",
      "103/1 [==================================================================================================================================================================================================================================================================================================================================================================================================================================================================================================================================================================================================================================================================================================================================================================================================================================================================================================================================================================================================================================================================================================================================================================================================================================================================================================================================================================================================================================================================================================================================================================================================================================================================================================================================================================================================================================================================================================================================================================================================================================================================================================================================================================================================================================================================================================================================================================================================================================================================================================================================================================================================================================================================================================================================================================================================================================================================================================================================================================================================================================================================================================================================================================================================================] - 0s 152us/sample - loss: 524.5010 - mae: 20.9841\n"
     ]
    },
    {
     "data": {
      "text/plain": [
       "[633.2443071383874, 20.9841]"
      ]
     },
     "execution_count": 9,
     "metadata": {},
     "output_type": "execute_result"
    }
   ],
   "source": [
    "model = build_model()\n",
    "model.fit(Train_Data, Train_Label, epochs=13, validation_data=(Validte_Data, Validte_Label))\n",
    "model.evaluate(Test_Data, Test_Label)"
   ]
  },
  {
   "cell_type": "code",
   "execution_count": 10,
   "metadata": {},
   "outputs": [
    {
     "name": "stdout",
     "output_type": "stream",
     "text": [
      "(927, 8)\n",
      "(927,)\n",
      "(103, 8)\n",
      "(103,)\n"
     ]
    }
   ],
   "source": [
    "df = df1.copy(deep=True)\n",
    "\n",
    "Train_Data = df.iloc[:valdte, :8].to_numpy()\n",
    "Train_Label = df.iloc[:valdte, -1].to_numpy()\n",
    "\n",
    "Test_Data = df.iloc[valdte:, :8].to_numpy()\n",
    "Test_Label = df.iloc[valdte:, -1].to_numpy()\n",
    "\n",
    "print(Train_Data.shape)\n",
    "print(Train_Label.shape)\n",
    "print(Test_Data.shape)\n",
    "print(Test_Label.shape)\n",
    "\n",
    "mean = Train_Data.mean(axis=0)\n",
    "Train_Data -= mean\n",
    "std = Train_Data.std(axis=0)\n",
    "Train_Data /= std\n",
    "Test_Data -= mean\n",
    "Test_Data /= std"
   ]
  },
  {
   "cell_type": "code",
   "execution_count": 11,
   "metadata": {},
   "outputs": [],
   "source": [
    "import numpy as np\n",
    "k = 4\n",
    "num_val_samples = len(Train_Data) // k\n",
    "num_epochs = 100\n",
    "all_scores = []"
   ]
  },
  {
   "cell_type": "code",
   "execution_count": 12,
   "metadata": {},
   "outputs": [
    {
     "name": "stdout",
     "output_type": "stream",
     "text": [
      "processing fold # 0\n",
      "processing fold # 1\n",
      "processing fold # 2\n",
      "processing fold # 3\n"
     ]
    }
   ],
   "source": [
    "for i in range(k):\n",
    "    print('processing fold #', i)\n",
    "    val_data = Train_Data[i * num_val_samples: (i + 1) * num_val_samples]\n",
    "    val_targets = Train_Label[i * num_val_samples: (i + 1) * num_val_samples]\n",
    "    partial_train_data = np.concatenate(\n",
    "        [Train_Data[:i * num_val_samples],\n",
    "        Train_Data[(i + 1) * num_val_samples:]],\n",
    "        axis=0)\n",
    "    partial_train_targets = np.concatenate(\n",
    "        [Train_Label[:i * num_val_samples],\n",
    "        Train_Label[(i + 1) * num_val_samples:]],\n",
    "        axis=0)\n",
    "    model = build_model()\n",
    "    model.fit(partial_train_data, partial_train_targets,\n",
    "    epochs=num_epochs, batch_size=1, verbose=0)\n",
    "    val_mse, val_mae = model.evaluate(val_data, val_targets, verbose=0)\n",
    "    all_scores.append(val_mae)"
   ]
  },
  {
   "cell_type": "code",
   "execution_count": 13,
   "metadata": {},
   "outputs": [
    {
     "data": {
      "text/plain": [
       "4.89936"
      ]
     },
     "execution_count": 13,
     "metadata": {},
     "output_type": "execute_result"
    }
   ],
   "source": [
    "np.mean(all_scores)"
   ]
  },
  {
   "cell_type": "code",
   "execution_count": null,
   "metadata": {},
   "outputs": [],
   "source": []
  }
 ],
 "metadata": {
  "kernelspec": {
   "display_name": "Python 3",
   "language": "python",
   "name": "python3"
  },
  "language_info": {
   "codemirror_mode": {
    "name": "ipython",
    "version": 3
   },
   "file_extension": ".py",
   "mimetype": "text/x-python",
   "name": "python",
   "nbconvert_exporter": "python",
   "pygments_lexer": "ipython3",
   "version": "3.7.4"
  }
 },
 "nbformat": 4,
 "nbformat_minor": 2
}
