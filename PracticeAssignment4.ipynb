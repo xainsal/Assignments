{
 "cells": [
  {
   "cell_type": "code",
   "execution_count": 1,
   "metadata": {},
   "outputs": [
    {
     "name": "stdout",
     "output_type": "stream",
     "text": [
      "Total Number of Students whose score is 90 and above is: 8\n",
      "The score of these students are 90 93 96 97 92 90 98 90\n"
     ]
    }
   ],
   "source": [
    "# 1. Below are a set of scores that students have received in the past semester.\n",
    "# Write code to determine how many are 90 or above and assign that result to the value a_scores.\n",
    "\n",
    "scores = \"67 80 90 78 93 20 79 89 96 97 92 88 79 68 58 90 98 100 79 74 83 88 80 86 85 70 90 100\"\n",
    "\n",
    "scoreslst = list(scores)\n",
    "a_score = 0\n",
    "topscorer = []\n",
    "\n",
    "for score in scores.split(\" \"):\n",
    "    if score >= '90':\n",
    "        topscorer.append(score)\n",
    "        a_score += 1\n",
    "        \n",
    "topscorer = ' '.join(topscorer)\n",
    "\n",
    "print(f'Total Number of Students whose score is 90 and above is: {a_score}\\nThe score of these students are {topscorer}')"
   ]
  },
  {
   "cell_type": "code",
   "execution_count": 2,
   "metadata": {},
   "outputs": [
    {
     "name": "stdout",
     "output_type": "stream",
     "text": [
      "OHSE\n"
     ]
    }
   ],
   "source": [
    "# 2. Write code that uses the string stored in org and creates an acronym which is assigned to the variable acro.\n",
    "# Only the first letter of each word should be used, each letter in the acronym should be a capital letter, and there should be nothing to separate the letters of the acronym.\n",
    "# Words that should not be included in the acronym are stored in the list stopwords. \n",
    "# For example, if org was assigned the string “hello to world” then the resulting acronym should be “HW”.\n",
    "\n",
    "stopwords = ['to', 'a', 'for', 'by', 'an', 'am', 'the', 'so', 'it', 'and', \"The\"]\n",
    "org = \"The organization for health, safety, and education\"\n",
    "acro = ''\n",
    "\n",
    "for word in org.split(' '):\n",
    "    if word not in stopwords:\n",
    "        acro += word[0].upper()\n",
    "\n",
    "print(acro)"
   ]
  },
  {
   "cell_type": "code",
   "execution_count": 3,
   "metadata": {},
   "outputs": [
    {
     "name": "stdout",
     "output_type": "stream",
     "text": [
      "WA.  EA.  AI.  AR.  VI\n"
     ]
    }
   ],
   "source": [
    "# 3. Write code that uses the string stored in sent and creates an acronym which is assigned to the variable acro.\n",
    "# The first two letters of each word should be used, each letter in the acronym should be a capital letter, and each element of the acronym should be separated by a “. ” (dot and space).\n",
    "# Words that should not be included in the acronym are stored in the list stopwords.\n",
    "# For example, if sent was assigned the string “height and ewok wonder” then the resulting acronym should be “HE. EW. WO”.\n",
    "\n",
    "stopwords = ['to', 'a', 'for', 'by', 'an', 'am', 'the', 'so', 'it', 'and', 'The']\n",
    "sent = \"The water earth and air are vital\"\n",
    "\n",
    "acro = []\n",
    "count = 0\n",
    "count2 = 0\n",
    "sentlst = sent.split(' ')\n",
    "\n",
    "for word in sentlst:\n",
    "    if word not in stopwords:\n",
    "        count += 1\n",
    "for word in sentlst:\n",
    "    if word not in stopwords:\n",
    "        count2 += 1\n",
    "        if count2 < count:\n",
    "            acro.append(word[0:2].upper() + '. ')\n",
    "        else:\n",
    "            acro.append(word[0:2].upper())\n",
    "\n",
    "print(' '.join(acro))"
   ]
  },
  {
   "cell_type": "code",
   "execution_count": 4,
   "metadata": {},
   "outputs": [
    {
     "name": "stdout",
     "output_type": "stream",
     "text": [
      "['w', 'a', 's', ' ', 'i', 't', ' ', 'a', ' ', 'c', 'a', 'r', ' ', 'o', 'r', ' ', 'a', ' ', 'c', 'a', 't', ' ', 'i', ' ', 's', 'a', 'w']\n",
      "['w', 'a', 's', ' ', 'i', ' ', 't', 'a', 'c', ' ', 'a', ' ', 'r', 'o', ' ', 'r', 'a', 'c', ' ', 'a', ' ', 't', 'i', ' ', 's', 'a', 'w']\n",
      "\n",
      "\n",
      "True\n",
      "\n",
      "\n",
      "wasitacaroracatisaw\n",
      "wasitacaroracatisaw\n"
     ]
    }
   ],
   "source": [
    "# 4. A palindrome is a phrase that, if reversed, would read the exact same.\n",
    "# Write code that checks if p_phrase is a palindrome by reversing it and then checking if the reversed version is equal to the original.\n",
    "# Assign the reversed version of p_phrase to the variable r_phrase so that we can check your work.\n",
    "\n",
    "def spaceCheck(listt):\n",
    "    for space in listt:\n",
    "        if space == \" \":\n",
    "            listt.remove(space)\n",
    "\n",
    "p_phrase = \"was it a car or a cat I saw\".lower()\n",
    "p_phrase = list(p_phrase)\n",
    "print(p_phrase)\n",
    "r_phrase = p_phrase.copy()\n",
    "r_phrase.reverse()\n",
    "print(r_phrase)\n",
    "spaceCheck(p_phrase)\n",
    "spaceCheck(r_phrase)\n",
    "\n",
    "if p_phrase == r_phrase:\n",
    "    print('\\n')\n",
    "    print(True)\n",
    "else:\n",
    "    print(False)\n",
    "    \n",
    "p_phrase = ''.join(p_phrase)\n",
    "r_phrase = ''.join(r_phrase)\n",
    "\n",
    "print('\\n')\n",
    "print(p_phrase)\n",
    "print(r_phrase)"
   ]
  },
  {
   "cell_type": "code",
   "execution_count": 5,
   "metadata": {},
   "outputs": [
    {
     "name": "stdout",
     "output_type": "stream",
     "text": [
      "The store has 12 shoes, each for  29.99 USD\n",
      "The store has 20 shirts, each for  9.99 USD\n",
      "The store has 25 sweatpants, each for  15.00 USD\n",
      "The store has 13 scarves, each for  7.75 USD\n"
     ]
    }
   ],
   "source": [
    "# 5. Provided is a list of data about a store’s inventory where each item in the list represents the name of an item, how much is in stock, and how much it costs.\n",
    "# Print out each item in the list with the same formatting, using the .format method (not string concatenation).\n",
    "# For example, the first print statment should read The store has 12 shoes, each for 29.99 USD.\n",
    "\n",
    "inventory = [\"shoes, 12, 29.99\", \"shirts, 20, 9.99\", \"sweatpants, 25, 15.00\", \"scarves, 13, 7.75\"]\n",
    "\n",
    "for inv in inventory:\n",
    "    i = inv.split(',')\n",
    "    print(f'The store has{i[1]} {i[0]}, each for {i[2]} USD')"
   ]
  },
  {
   "cell_type": "code",
   "execution_count": 6,
   "metadata": {},
   "outputs": [
    {
     "name": "stdout",
     "output_type": "stream",
     "text": [
      "['ended', 'worked', 'played', 'started', 'walked', 'looked', 'opened', 'rained', 'learned', 'cleaned']\n"
     ]
    }
   ],
   "source": [
    "# 6. For each string in wrds, add ‘ed’ to the end of the word (to make the word past tense).\n",
    "# Save these past tense words to a list called past_wrds.\n",
    "\n",
    "wrds = [\"end\", 'work', \"play\", \"start\", \"walk\", \"look\", \"open\", \"rain\", \"learn\", \"clean\"]\n",
    "past_wrds = []\n",
    "\n",
    "for ind in range (len(wrds)):\n",
    "    past_wrds.append(wrds[ind] + 'ed')\n",
    "    \n",
    "print(past_wrds)"
   ]
  },
  {
   "cell_type": "code",
   "execution_count": 7,
   "metadata": {},
   "outputs": [
    {
     "name": "stdout",
     "output_type": "stream",
     "text": [
      "False\n",
      "3\n"
     ]
    }
   ],
   "source": [
    "# 7. Write a function, test, that takes in three parameters: a required integer,\n",
    "# an optional boolean whose default value is True, and an optional dictionary,\n",
    "# called dict1, whose default value is {2:3, 4:5, 6:8}. If the boolean parameter is True,\n",
    "# the function should test to see if the integer is a key in the dictionary.\n",
    "# The value of that key should then be returned. If the boolean parameter is False, return the boolean value “False”.\n",
    "\n",
    "def test(no, boolean = True, dict1 = {2:3, 4:5, 6:8}):\n",
    "    if boolean == True:\n",
    "        for key in dict1.keys():\n",
    "            if no == key:\n",
    "                return dict1[key]\n",
    "    else:\n",
    "        return \"False\"\n",
    "\n",
    "val = test(2, False)\n",
    "print(val)\n",
    "\n",
    "val = test(2)\n",
    "print(val)"
   ]
  },
  {
   "cell_type": "code",
   "execution_count": 8,
   "metadata": {},
   "outputs": [
    {
     "name": "stdout",
     "output_type": "stream",
     "text": [
      "Fruit Name: orange and direction: True\n",
      "Returned Value: True\n",
      "\n",
      "Fruit Name: orange and direction: False\n",
      "Returned Value: False\n",
      "\n",
      "Fruit Name: orange and direction: True\n",
      "Returned Value: False\n",
      "\n",
      "Fruit Name: orange and direction: False\n",
      "Returned Value: True\n",
      "\n"
     ]
    }
   ],
   "source": [
    "# 8. Write a function called checkingIfIn that takes three parameters.\n",
    "# The first is a required parameter, which should be a string.\n",
    "# The second is an optional parameter called direction with a default value of True.\n",
    "# The third is an optional parameter called d that has a default value of\n",
    "# {'apple': 2, 'pear': 1, 'fruit': 19, 'orange': 5, 'banana': 3, 'grapes': 2, 'watermelon': 7}.\n",
    "# Write the function checkingIfIn so that when the second parameter is True,\n",
    "# it checks to see if the first parameter is a key in the third parameter;\n",
    "# if it is, return True, otherwise return False.\n",
    "\n",
    "# But if the second paramter is False, then the function should check to see if the first parameter is not a key of the third.'\n",
    "# If it’s not, the function should return True in this case, and if it is, it should return False.\n",
    "\n",
    "def checkingIfIn(String, direction = True, d = {'apple': 2, 'pear': 1, 'fruit': 19, 'orange': 5, 'banana': 3, 'grapes': 2, 'watermelon': 7}):\n",
    "    count = 0\n",
    "    for key in d.keys():\n",
    "        if String == key:\n",
    "            count = 1\n",
    "            break\n",
    "    if count == 1 and direction == False:\n",
    "        return False\n",
    "    elif count == 1 and direction == True:\n",
    "        return True\n",
    "    elif count == 0 and direction == False:\n",
    "        return True\n",
    "    elif count == 0 and direction == True:\n",
    "        return False\n",
    "        \n",
    "\n",
    "fruit = 'orange'\n",
    "fruit2 = 'pineapple'\n",
    "\n",
    "val = checkingIfIn(fruit)\n",
    "print(f'Fruit Name: {fruit} and direction: True\\nReturned Value: {val}\\n')\n",
    "\n",
    "val = checkingIfIn(fruit, False)\n",
    "print(f'Fruit Name: {fruit} and direction: False\\nReturned Value: {val}\\n')\n",
    "\n",
    "val = checkingIfIn(fruit2)\n",
    "print(f'Fruit Name: {fruit} and direction: True\\nReturned Value: {val}\\n')\n",
    "\n",
    "val = checkingIfIn(fruit2, False)\n",
    "print(f'Fruit Name: {fruit} and direction: False\\nReturned Value: {val}\\n')"
   ]
  },
  {
   "cell_type": "code",
   "execution_count": 9,
   "metadata": {},
   "outputs": [
    {
     "name": "stdout",
     "output_type": "stream",
     "text": [
      "The Numbers of Characters in this Documents: 269\n"
     ]
    }
   ],
   "source": [
    "# 9. The textfile, travel_plans.txt, contains the summer travel plans for someone with some commentary.\n",
    "# Find the total number of characters in the file and save to the variable num.\n",
    "\n",
    "char = 0\n",
    "with open('travel_plans.txt', 'w') as WF:\n",
    "    WF.writelines('a small and quiet place\\n an exotic beach\\n hiking in the mountains\\n a big and modern city\\n\\n “How nice it would be to have a friend in every place that we travelled to!” We all might have wondered about this at one point or another in our lives. But we moved on with our lives')\n",
    "\n",
    "with open('travel_plans.txt')as RF:\n",
    "    lines = RF.readlines()\n",
    "    for Words in lines:\n",
    "        for characters in Words:\n",
    "            if characters != '\\n':\n",
    "                char += 1\n",
    "                \n",
    "print(f'The Numbers of Characters in this Documents: {char}')"
   ]
  },
  {
   "cell_type": "code",
   "execution_count": 28,
   "metadata": {},
   "outputs": [
    {
     "name": "stdout",
     "output_type": "stream",
     "text": [
      "Numbers of Vowels in Sentence: \"singing in the rain and playing in the rain are two entirely different situations but both can be fun\" are \"32\"\n"
     ]
    }
   ],
   "source": [
    "#10. Write code that will count the number of vowels in the sentence s and assign the result to the variable num_vowels.\n",
    "# For this problem, vowels are only a, e, i, o, and u. Hint: use the in operator with vowels.\n",
    "\n",
    "s = \"singing in the rain and playing in the rain are two entirely different situations but both can be fun\"\n",
    "vowels = ['a','e','i','o','u']\n",
    "\n",
    "# Write your code here.(Using list comprehension)\n",
    "listtt = [x for x in s if x in vowels]\n",
    "print(f'Numbers of Vowels in Sentence: \"{s}\" are \"{len(listtt)}\"')"
   ]
  },
  {
   "cell_type": "code",
   "execution_count": 11,
   "metadata": {},
   "outputs": [
    {
     "name": "stdout",
     "output_type": "stream",
     "text": [
      " Number of rainfalls this year: 5\n"
     ]
    }
   ],
   "source": [
    "#11. rainfall_mi is a string that contains the average number of inches of rainfall in Michigan for every month (in inches) with every month separated by a comma.\n",
    "# Write code to compute the number of months that have more than 3 inches of rainfall.\n",
    "# Store the result in the variable num_rainy_months. In other words, count the number of items with values > 3.0.\n",
    "# Hard-coded answers will receive no credit.\n",
    "\n",
    "num_rainy_month = 0\n",
    "rainfall_mi = \"1.65, 1.46, 2.05, 3.03, 3.35, 3.46, 2.83, 3.23, 3.5, 2.52, 2.8, 1.85\"\n",
    "rainy_month = rainfall_mi.split(\",\")\n",
    "\n",
    "for x in rainy_month:\n",
    "    x = float(x)\n",
    "    if x > 3.0:\n",
    "        num_rainy_month += 1\n",
    "        \n",
    "print(f' Number of rainfalls this year: {num_rainy_month}')\n",
    "    "
   ]
  },
  {
   "cell_type": "code",
   "execution_count": 12,
   "metadata": {},
   "outputs": [
    {
     "name": "stdout",
     "output_type": "stream",
     "text": [
      "The word \"hello\" contains 5 Characters\n",
      "The word \"\" contains 0 Characters\n",
      "The word \"goodbye\" contains 7 Characters\n",
      "The word \"wonderful\" contains 9 Characters\n",
      "The word \"I love Python\" contains 13 Characters\n"
     ]
    }
   ],
   "source": [
    "#12. Write code that uses iteration to print out the length of each element of the list stored in str_list.\n",
    "\n",
    "str_list = [\"hello\", \"\", \"goodbye\", \"wonderful\", \"I love Python\"]\n",
    "\n",
    "for words in str_list:\n",
    "    print(f'The word \"{words}\" contains {len(words)} Characters')\n",
    "\n"
   ]
  },
  {
   "cell_type": "code",
   "execution_count": 23,
   "metadata": {},
   "outputs": [
    {
     "name": "stdout",
     "output_type": "stream",
     "text": [
      "2 <class 'int'>\n",
      "4 <class 'int'>\n",
      "6.0 <class 'float'>\n",
      "7.5 <class 'float'>\n",
      "234352354 <class 'int'>\n",
      "99 <class 'int'>\n",
      "\n",
      "\n",
      "hello <class 'str'>\n",
      "the end <class 'str'>\n",
      " <class 'str'>\n"
     ]
    }
   ],
   "source": [
    "#13. Write one for loop to print out each element of the list several_things.\n",
    "# Then, write another for loop to print out the TYPE of each element of the list several_things.\n",
    "# To complete this problem you should have written two different for loops,\n",
    "# each of which iterates over the list several_things, but each of those 2 for loops should have a different result.\n",
    "\n",
    "several_things = [\"hello\", 2, 4, 6.0, 7.5, 234352354, \"the end\", \"\", 99]\n",
    "\n",
    "for things in several_things:\n",
    "    if type(things) == int:\n",
    "        print(f'{things} {type(things)}')\n",
    "    elif type(things) == float:\n",
    "        print(f'{things} {type(things)}')\n",
    "print(\"\\n\")   \n",
    "for things in several_things:\n",
    "    if type(things) == str:\n",
    "        print(f'{things} {type(things)}')"
   ]
  },
  {
   "cell_type": "code",
   "execution_count": 14,
   "metadata": {},
   "outputs": [
    {
     "name": "stdout",
     "output_type": "stream",
     "text": [
      " Names That Contains \"t\" ['Lochte', 'Bolt', 'Eaton', 'Dalton']\n",
      "\n",
      "\n",
      " Names That Does not Contains letter \"t\" ['Phelps', 'Schooling', 'Ledecky', 'Franklin', 'Felix', 'Gardner', 'Biles', 'Douglas', 'Hamm', 'Raisman', 'Mikulak']\n"
     ]
    }
   ],
   "source": [
    "#14. Given below is a list of lists of athletes.\n",
    "# Create a list, t, that saves only the athlete’s name if it contains the letter “t”.\n",
    "# If it does not contain the letter “t”, save the athlete name into list other.\n",
    "\n",
    "athletes = [\n",
    "    ['Phelps', 'Lochte', 'Schooling', 'Ledecky', 'Franklin'], \n",
    "    ['Felix', 'Bolt', 'Gardner', 'Eaton'], \n",
    "    ['Biles', 'Douglas', 'Hamm', 'Raisman', 'Mikulak', 'Dalton']\n",
    "]\n",
    "t = []\n",
    "other = []\n",
    "\n",
    "for athlete in athletes:\n",
    "    for name in athlete:\n",
    "        if 't' in name:\n",
    "            t.append(name)\n",
    "        else:\n",
    "            other.append(name)\n",
    "print(f' Names That Contains \"t\" {t}')\n",
    "print('\\n')\n",
    "print(f' Names That Does not Contains letter \"t\" {other}')"
   ]
  },
  {
   "cell_type": "code",
   "execution_count": 15,
   "metadata": {},
   "outputs": [
    {
     "name": "stdout",
     "output_type": "stream",
     "text": [
      "[('Tommy', 95), ('Carl', 70), ('Bob', 100), ('Sue', 75)]\n"
     ]
    }
   ],
   "source": [
    "#15. Below, we have provided a list of tuples that contain students names and their final grades in PYTHON 101.\n",
    "# Using list comprehension, create a new list passed that contains the names of students who passed the class\n",
    "# (had a final grade of 70 or greater).\n",
    "\n",
    "students = [('Tommy', 95), ('Linda', 63), ('Carl', 70), ('Bob', 100), ('Raymond', 50), ('Sue', 75)]\n",
    "\n",
    "passed_students = [stud for stud in students if stud[1] >= 70]\n",
    "\n",
    "print(passed_students)"
   ]
  },
  {
   "cell_type": "code",
   "execution_count": null,
   "metadata": {},
   "outputs": [],
   "source": []
  }
 ],
 "metadata": {
  "kernelspec": {
   "display_name": "Python 3",
   "language": "python",
   "name": "python3"
  },
  "language_info": {
   "codemirror_mode": {
    "name": "ipython",
    "version": 3
   },
   "file_extension": ".py",
   "mimetype": "text/x-python",
   "name": "python",
   "nbconvert_exporter": "python",
   "pygments_lexer": "ipython3",
   "version": "3.7.3"
  }
 },
 "nbformat": 4,
 "nbformat_minor": 2
}
