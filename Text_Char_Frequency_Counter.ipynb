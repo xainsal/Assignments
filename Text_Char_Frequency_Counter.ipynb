{
 "cells": [
  {
   "cell_type": "code",
   "execution_count": 1,
   "metadata": {},
   "outputs": [
    {
     "name": "stdout",
     "output_type": "stream",
     "text": [
      "Total Characters: 35\n",
      "[2 1 1 1 3 2 1 1 2 0 0 1 0 3 3 2 0 3 1 1 0 0 0 0 2 0 5]\n",
      "Characters converted: 35\n",
      "\n",
      "Total Characters: 188\n",
      "[16  2  7  3 17  3  4  4 21  0  0 11  7 11  9  7  0  9  5 14  2  2  1  2\n",
      "  4  0 24]\n",
      "Characters converted: 185\n"
     ]
    }
   ],
   "source": [
    "import numpy as np\n",
    "\n",
    "def Text_convert(string):\n",
    "    characters = [\"a\",\"b\",\"c\",\"d\",\"e\",\"f\",\"g\",\"h\",\"i\",\"j\",\"k\",\"l\",\"m\",\"n\",\"o\",\"p\",\"q\",\"r\",\"s\",\"t\",\"u\",\"v\",\"w\",\"x\",\"y\",\"z\", \" \"]\n",
    "    charlist = []\n",
    "    newstr = string.lower()\n",
    "    \n",
    "    for x in range(len(characters)):\n",
    "        if characters[x] in newstr:\n",
    "            charlist.append(newstr.count(characters[x]))\n",
    "        else:\n",
    "            charlist.append(0)\n",
    "            \n",
    "    nparray = np.array(charlist)\n",
    "    return nparray\n",
    "\n",
    "\n",
    "#cstr = input(\"Enter a Paragraph: \")\n",
    "\n",
    "cstr = \"deep learning for python by fracois\"\n",
    "cstr2 = \"Machine learning is an application of artificial intelligence (AI) that provides systems the ability to automatically learn and improve from experience without being explicitly programmed.\"\n",
    "\n",
    "\n",
    "print(f'Total Characters: {len(cstr)}')\n",
    "print(Text_convert(cstr))\n",
    "print(f'Characters converted: {Text_convert(cstr).sum()}')\n",
    "print()\n",
    "print(f'Total Characters: {len(cstr2)}')\n",
    "print(Text_convert(cstr2))\n",
    "print(f'Characters converted: {Text_convert(cstr2).sum()}')"
   ]
  },
  {
   "cell_type": "code",
   "execution_count": null,
   "metadata": {},
   "outputs": [],
   "source": []
  }
 ],
 "metadata": {
  "kernelspec": {
   "display_name": "Python 3",
   "language": "python",
   "name": "python3"
  },
  "language_info": {
   "codemirror_mode": {
    "name": "ipython",
    "version": 3
   },
   "file_extension": ".py",
   "mimetype": "text/x-python",
   "name": "python",
   "nbconvert_exporter": "python",
   "pygments_lexer": "ipython3",
   "version": "3.7.4"
  }
 },
 "nbformat": 4,
 "nbformat_minor": 2
}
