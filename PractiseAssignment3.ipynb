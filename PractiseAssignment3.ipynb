{
 "cells": [
  {
   "cell_type": "markdown",
   "metadata": {},
   "source": [
    "# Q1:"
   ]
  },
  {
   "cell_type": "markdown",
   "metadata": {},
   "source": [
    "Think of at least three kinds of your favorite pizza. Store these pizza names in a list, and then use a for loop to print the name of each pizza."
   ]
  },
  {
   "cell_type": "code",
   "execution_count": 1,
   "metadata": {},
   "outputs": [
    {
     "name": "stdout",
     "output_type": "stream",
     "text": [
      "Spicy Italian\n",
      "Chicken Tikka\n",
      "Fajita Sensation\n"
     ]
    }
   ],
   "source": [
    "lst_PizzaFlava = [\"Spicy Italian\", \"Chicken Tikka\", \"Fajita Sensation\"]\n",
    "\n",
    "for x in lst_PizzaFlava:\n",
    "    print(x)"
   ]
  },
  {
   "cell_type": "code",
   "execution_count": 2,
   "metadata": {},
   "outputs": [
    {
     "name": "stdout",
     "output_type": "stream",
     "text": [
      "Spicy Italian\n",
      "Chicken Tikka\n",
      "Fajita Sensation\n"
     ]
    }
   ],
   "source": [
    "for x in range(len(lst_PizzaFlava)):\n",
    "    print(lst_PizzaFlava[x])"
   ]
  },
  {
   "cell_type": "markdown",
   "metadata": {},
   "source": [
    "# Q2"
   ]
  },
  {
   "cell_type": "markdown",
   "metadata": {},
   "source": [
    "Start with your last question , Modify your for loop to print a sentence using the name of the pizza\n",
    "instead of printing just the name of the pizza. For each pizza you should\n",
    "have one line of output containing a simple statement like I like pepperoni\n",
    "pizza."
   ]
  },
  {
   "cell_type": "code",
   "execution_count": 3,
   "metadata": {},
   "outputs": [
    {
     "name": "stdout",
     "output_type": "stream",
     "text": [
      "I Like Spicy Italian Pizza\n",
      "I Like Chicken Tikka Pizza\n",
      "I Like Fajita Sensation Pizza\n"
     ]
    }
   ],
   "source": [
    "lst_PizzaFlava = [\"Spicy Italian\", \"Chicken Tikka\", \"Fajita Sensation\"]\n",
    "\n",
    "for x in lst_PizzaFlava:\n",
    "    print(f'I Like {x} Pizza')"
   ]
  },
  {
   "cell_type": "code",
   "execution_count": 4,
   "metadata": {},
   "outputs": [
    {
     "name": "stdout",
     "output_type": "stream",
     "text": [
      "I Like Spicy Italian Pizza\n",
      "I Like Chicken Tikka Pizza\n",
      "I Like Fajita Sensation Pizza\n"
     ]
    }
   ],
   "source": [
    "for x in range (len(lst_PizzaFlava)):\n",
    "    print(f'I Like {lst_PizzaFlava[x]} Pizza')"
   ]
  },
  {
   "cell_type": "markdown",
   "metadata": {},
   "source": [
    "# Q3:"
   ]
  },
  {
   "cell_type": "markdown",
   "metadata": {},
   "source": [
    "Use a for loop to print the numbers from 1 to 20,\n",
    "inclusive."
   ]
  },
  {
   "cell_type": "code",
   "execution_count": 5,
   "metadata": {},
   "outputs": [
    {
     "name": "stdout",
     "output_type": "stream",
     "text": [
      "1\n",
      "2\n",
      "3\n",
      "4\n",
      "5\n",
      "6\n",
      "7\n",
      "8\n",
      "9\n",
      "10\n",
      "11\n",
      "12\n",
      "13\n",
      "14\n",
      "15\n",
      "16\n",
      "17\n",
      "18\n",
      "19\n",
      "20\n"
     ]
    }
   ],
   "source": [
    "for no in range(1,21):\n",
    "    print(no)"
   ]
  },
  {
   "cell_type": "code",
   "execution_count": 6,
   "metadata": {},
   "outputs": [
    {
     "name": "stdout",
     "output_type": "stream",
     "text": [
      "1\n",
      "2\n",
      "3\n",
      "4\n",
      "5\n",
      "6\n",
      "7\n",
      "8\n",
      "9\n",
      "10\n",
      "11\n",
      "12\n",
      "13\n",
      "14\n",
      "15\n",
      "16\n",
      "17\n",
      "18\n",
      "19\n",
      "20\n"
     ]
    }
   ],
   "source": [
    "for no in range(0,20):\n",
    "    print(no+1)"
   ]
  },
  {
   "cell_type": "markdown",
   "metadata": {},
   "source": [
    "# Q4:"
   ]
  },
  {
   "cell_type": "markdown",
   "metadata": {},
   "source": [
    "Use the third argument of the range() function to make a list\n",
    "of the odd numbers from 1 to 20. Use a for loop to print each number."
   ]
  },
  {
   "cell_type": "code",
   "execution_count": 7,
   "metadata": {},
   "outputs": [
    {
     "name": "stdout",
     "output_type": "stream",
     "text": [
      "[1, 3, 5, 7, 9, 11, 13, 15, 17, 19]\n"
     ]
    }
   ],
   "source": [
    "lst_odd = []\n",
    "for odd in range(1, 20, 2):\n",
    "    lst_odd.append(odd)\n",
    "print(lst_odd)"
   ]
  },
  {
   "cell_type": "code",
   "execution_count": 8,
   "metadata": {},
   "outputs": [
    {
     "name": "stdout",
     "output_type": "stream",
     "text": [
      "[1, 3, 5, 7, 9, 11, 13, 15, 17, 19]\n"
     ]
    }
   ],
   "source": [
    "lst_odd = []\n",
    "for odd in range(0, 20, 2):\n",
    "    lst_odd.append(odd+1)\n",
    "print(lst_odd)"
   ]
  },
  {
   "cell_type": "markdown",
   "metadata": {},
   "source": [
    "# Q5:"
   ]
  },
  {
   "cell_type": "markdown",
   "metadata": {},
   "source": [
    "Make a list of the multiples of 3 from 3 to 30. Use a for loop to\n",
    "print the numbers in your list."
   ]
  },
  {
   "cell_type": "code",
   "execution_count": 9,
   "metadata": {},
   "outputs": [
    {
     "name": "stdout",
     "output_type": "stream",
     "text": [
      "3\n",
      "6\n",
      "9\n",
      "12\n",
      "15\n",
      "18\n",
      "21\n",
      "24\n",
      "27\n",
      "30\n"
     ]
    }
   ],
   "source": [
    "lst_Multip = []\n",
    "\n",
    "for m in range(3,31,3):\n",
    "    lst_Multip.append(m)\n",
    "\n",
    "for l in lst_Multip:\n",
    "    print(l)"
   ]
  },
  {
   "cell_type": "code",
   "execution_count": 10,
   "metadata": {},
   "outputs": [
    {
     "name": "stdout",
     "output_type": "stream",
     "text": [
      "3\n",
      "6\n",
      "9\n",
      "12\n",
      "15\n",
      "18\n",
      "21\n",
      "24\n",
      "27\n",
      "30\n"
     ]
    }
   ],
   "source": [
    "lst_Mult = []\n",
    "\n",
    "for x in range (10):\n",
    "    lst_Mult.append((x+1) * 3)\n",
    "\n",
    "for y in lst_Mult:\n",
    "    print(y)"
   ]
  },
  {
   "cell_type": "code",
   "execution_count": 11,
   "metadata": {},
   "outputs": [
    {
     "name": "stdout",
     "output_type": "stream",
     "text": [
      "3\n",
      "6\n",
      "9\n",
      "12\n",
      "15\n",
      "18\n",
      "21\n",
      "24\n",
      "27\n",
      "30\n"
     ]
    }
   ],
   "source": [
    "lst_Multiples = [3,6,9,12,15,18,21,24,27,30]\n",
    "\n",
    "for x in lst_Multiples:\n",
    "    print(x)"
   ]
  },
  {
   "cell_type": "markdown",
   "metadata": {},
   "source": [
    "# Q6:"
   ]
  },
  {
   "cell_type": "markdown",
   "metadata": {},
   "source": [
    "A number raised to the third power is called a cube. For example,\n",
    "the cube of 2 is written as 2**3 in Python. Make a list of the first 10 cubes (that\n",
    "is, the cube of each integer from 1 through 10), and use a for loop to print out\n",
    "the value of each cube"
   ]
  },
  {
   "cell_type": "code",
   "execution_count": 12,
   "metadata": {},
   "outputs": [
    {
     "name": "stdout",
     "output_type": "stream",
     "text": [
      "1\n",
      "8\n",
      "27\n",
      "64\n",
      "125\n",
      "216\n",
      "343\n",
      "512\n",
      "729\n",
      "1000\n"
     ]
    }
   ],
   "source": [
    "lst_Cubes = []\n",
    "for n in range (1,11):\n",
    "    lst_Cubes.append(n**3)\n",
    "\n",
    "for c in lst_Cubes:\n",
    "    print(c)"
   ]
  },
  {
   "cell_type": "code",
   "execution_count": 13,
   "metadata": {},
   "outputs": [
    {
     "name": "stdout",
     "output_type": "stream",
     "text": [
      "1\n",
      "8\n",
      "27\n",
      "64\n",
      "125\n",
      "216\n",
      "343\n",
      "512\n",
      "729\n",
      "1000\n"
     ]
    }
   ],
   "source": [
    "lst_Cube = [1,8,27,64,125,216,343,512,729,1000]\n",
    "for n in lst_Cube:\n",
    "    print(n)"
   ]
  },
  {
   "cell_type": "markdown",
   "metadata": {},
   "source": [
    "# Q7:"
   ]
  },
  {
   "cell_type": "markdown",
   "metadata": {},
   "source": [
    "###### Make a python program that conatains your nine favourite dishes in a list called foods.\n",
    "\n",
    "###### Print the message, The first three items in the list are:. \n",
    "###### Then use a slice to print the first three items from that program’s list.\n",
    "\n",
    "###### Print the message, Three items from the middle of the list are:\n",
    "###### Use a slice to print three items from the middle of the list.\n",
    "\n",
    "###### Print the message, The last three items in the list are:\n",
    "###### Use a slice to print the last three items in the list."
   ]
  },
  {
   "cell_type": "code",
   "execution_count": 14,
   "metadata": {},
   "outputs": [
    {
     "name": "stdout",
     "output_type": "stream",
     "text": [
      "The first three items in the list are: ['Chicken Tikka', 'Shawarma', 'Italian']\n"
     ]
    }
   ],
   "source": [
    "foods = [\"Chicken Tikka\",\"Shawarma\",\"Italian\",\"Malai Boti\",\"Sajji\",\"arabian\",\"fajita\",\"Behari Boti\",\"Chili Chicken\"]\n",
    "\n",
    "print(f'The first three items in the list are: {foods[0:3]}')"
   ]
  },
  {
   "cell_type": "code",
   "execution_count": 15,
   "metadata": {},
   "outputs": [
    {
     "name": "stdout",
     "output_type": "stream",
     "text": [
      "Three items from the middle of the list are: ['Malai Boti', 'Sajji', 'arabian']\n"
     ]
    }
   ],
   "source": [
    "print(f'Three items from the middle of the list are: {foods[3:6]}')"
   ]
  },
  {
   "cell_type": "code",
   "execution_count": 16,
   "metadata": {},
   "outputs": [
    {
     "name": "stdout",
     "output_type": "stream",
     "text": [
      "The last three items in the list are: ['fajita', 'Behari Boti', 'Chili Chicken']\n"
     ]
    }
   ],
   "source": [
    "print(f'The last three items in the list are: {foods[6:9]}')"
   ]
  },
  {
   "cell_type": "markdown",
   "metadata": {},
   "source": [
    "# Q8:"
   ]
  },
  {
   "cell_type": "markdown",
   "metadata": {},
   "source": [
    "### Start with your program from your last Question8.\n",
    "###### Make a copy of the list of foods, and call it friend_foods.\n",
    "###### Then, do the following:\n",
    "######    Add a new dish to the original list.\n",
    "######    Add a different dish to the list friend_foodss.\n",
    "######    Prove that you have two separate lists. \n",
    "###### Print the message, My favorite pizzas are: and then use a for loop to print the first list. \n",
    "###### Print the message,\n",
    "###### My friend’s favorite foods are:, and then use a for loop to print the second list.\n",
    "    \n",
    "##### NOTE: Make sure each new dish is stored in the appropriate list."
   ]
  },
  {
   "cell_type": "code",
   "execution_count": 17,
   "metadata": {},
   "outputs": [],
   "source": [
    "friends_foods = foods.copy()"
   ]
  },
  {
   "cell_type": "code",
   "execution_count": 18,
   "metadata": {},
   "outputs": [],
   "source": [
    "foods.append(\"Pepperoni\")"
   ]
  },
  {
   "cell_type": "code",
   "execution_count": 19,
   "metadata": {},
   "outputs": [],
   "source": [
    "friends_foods.append(\"Fried Fish\")"
   ]
  },
  {
   "cell_type": "code",
   "execution_count": 21,
   "metadata": {},
   "outputs": [
    {
     "name": "stdout",
     "output_type": "stream",
     "text": [
      "lst_FavFoods list Contains: ['Chicken Tikka', 'Shawarma', 'Italian', 'Malai Boti', 'Sajji', 'arabian', 'fajita', 'Behari Boti', 'Chili Chicken', 'Pepperoni'] \n",
      "\n",
      "friends_foods list Contains: ['Chicken Tikka', 'Shawarma', 'Italian', 'Malai Boti', 'Sajji', 'arabian', 'fajita', 'Behari Boti', 'Chili Chicken', 'Fried Fish']\n",
      "\n",
      "The last items in both list are different this proves that these are two diffrent list\n"
     ]
    }
   ],
   "source": [
    "print(f'lst_FavFoods list Contains: {foods} \\n\\nfriends_foods list Contains: {friends_foods}\\n\\nThe last items in both list are different this proves that these are two diffrent list')"
   ]
  },
  {
   "cell_type": "code",
   "execution_count": 22,
   "metadata": {},
   "outputs": [
    {
     "name": "stdout",
     "output_type": "stream",
     "text": [
      "My Favorite Pizzas Are: \n",
      "Chicken Tikka\n",
      "Shawarma\n",
      "Italian\n",
      "Malai Boti\n",
      "Sajji\n",
      "arabian\n",
      "fajita\n",
      "Behari Boti\n",
      "Chili Chicken\n",
      "Pepperoni\n"
     ]
    }
   ],
   "source": [
    "print(\"My Favorite Pizzas Are: \")\n",
    "for x in foods:\n",
    "    print(x)"
   ]
  },
  {
   "cell_type": "code",
   "execution_count": 23,
   "metadata": {},
   "outputs": [
    {
     "name": "stdout",
     "output_type": "stream",
     "text": [
      "My friend’s favorite foods are: \n",
      "Chicken Tikka\n",
      "Shawarma\n",
      "Italian\n",
      "Malai Boti\n",
      "Sajji\n",
      "arabian\n",
      "fajita\n",
      "Behari Boti\n",
      "Chili Chicken\n",
      "Fried Fish\n"
     ]
    }
   ],
   "source": [
    "print(\"My friend’s favorite foods are: \")\n",
    "for y in friends_foods:\n",
    "    print(y)"
   ]
  },
  {
   "cell_type": "markdown",
   "metadata": {},
   "source": [
    "# Q9:"
   ]
  },
  {
   "cell_type": "markdown",
   "metadata": {},
   "source": [
    "Take a user input from console line.Store it in a variable called Alien_color.\n",
    "\n",
    "If the alien’s color is red, print a statement that the player just earned 5 points for shooting the alien.\n",
    "\n",
    "If the alien’s color isn’t green, print a statement that the player just earned 10 points.\n",
    "\n",
    "If the alien's color isn't red or green , print a statment :, Alien is no more....."
   ]
  },
  {
   "cell_type": "code",
   "execution_count": 24,
   "metadata": {},
   "outputs": [
    {
     "name": "stdout",
     "output_type": "stream",
     "text": [
      "Enter Color of Alien After you Shot it. Is it 'red' or 'green' or 'Other Color': red\n",
      "You just earned 5 points for shooting the alien.\n"
     ]
    }
   ],
   "source": [
    "Alien_color = input(\"Enter Color of Alien After you Shot it. Is it 'red' or 'green' or 'Other Color': \").lower()\n",
    "\n",
    "if Alien_color == \"red\":\n",
    "    print(\"You just earned 5 points for shooting the alien.\")\n",
    "elif Alien_color == \"green\":\n",
    "    print(\"You just earned 10 points\")\n",
    "elif Alien_color != \"red\" and \"green\":\n",
    "    print(\"The Alien is no more...\")"
   ]
  },
  {
   "cell_type": "code",
   "execution_count": 25,
   "metadata": {},
   "outputs": [
    {
     "name": "stdout",
     "output_type": "stream",
     "text": [
      "Enter Color of Alien After you Shot it. Is it 'red' or 'green' or 'Other Color': green\n",
      "You just earned 10 points\n"
     ]
    }
   ],
   "source": [
    "Alien_color = input(\"Enter Color of Alien After you Shot it. Is it 'red' or 'green' or 'Other Color': \").lower()\n",
    "\n",
    "if Alien_color == \"red\":\n",
    "    print(\"You just earned 5 points for shooting the alien.\")\n",
    "elif Alien_color == \"green\":\n",
    "    print(\"You just earned 10 points\")\n",
    "elif Alien_color != \"red\" and \"green\":\n",
    "    print(\"The Alien is no more...\")"
   ]
  },
  {
   "cell_type": "code",
   "execution_count": 26,
   "metadata": {},
   "outputs": [
    {
     "name": "stdout",
     "output_type": "stream",
     "text": [
      "Enter Color of Alien After you Shot it. Is it 'red' or 'green' or 'Other Color': purple\n",
      "The Alien is no more...\n"
     ]
    }
   ],
   "source": [
    "Alien_color = input(\"Enter Color of Alien After you Shot it. Is it 'red' or 'green' or 'Other Color': \").lower()\n",
    "\n",
    "if Alien_color == \"red\":\n",
    "    print(\"You just earned 5 points for shooting the alien.\")\n",
    "elif Alien_color == \"green\":\n",
    "    print(\"You just earned 10 points\")\n",
    "elif Alien_color != \"red\" and \"green\":\n",
    "    print(\"The Alien is no more...\")"
   ]
  },
  {
   "cell_type": "markdown",
   "metadata": {},
   "source": [
    "# Q10:"
   ]
  },
  {
   "cell_type": "markdown",
   "metadata": {},
   "source": [
    "Write an if-elif-else chain that determines a person’s\n",
    "stage of life. Set a value for the variable age, and then:\n",
    "    \n",
    "•\t If the person is less than 2 years old, print a message that the person is a baby.\n",
    "\n",
    "•\t If the person is at least 2 years old but less than 4, print a message that the person is a toddler.\n",
    "\n",
    "•\t If the person is at least 4 years old but less than 13, print a message that the person is a kid.\n",
    "\n",
    "•\t If the person is at least 13 years old but less than 20, print a message that the person is a teenager.\n",
    "\n",
    "•\t If the person is at least 20 years old but less than 65, print a message that the person is an adult.\n",
    "\n",
    "•\t If the person is age 65 or older, print a message that the person is an elder."
   ]
  },
  {
   "cell_type": "code",
   "execution_count": 27,
   "metadata": {},
   "outputs": [
    {
     "name": "stdout",
     "output_type": "stream",
     "text": [
      "The person is a baby.\n"
     ]
    }
   ],
   "source": [
    "age = 1\n",
    "\n",
    "if age < 2:\n",
    "    print(\"The person is a baby.\")\n",
    "elif age > 1 and age < 4:\n",
    "    print(\"The person is a toddler.\")\n",
    "elif age > 3 and age < 13:\n",
    "    print(\"The person is a kid.\")\n",
    "elif age > 12 and age < 20:\n",
    "    print(\"The person is a teenager.\")\n",
    "elif age > 19 and age < 65:\n",
    "    print(\"The person is an adult\")\n",
    "else:\n",
    "    print(\"The person is an elder\")"
   ]
  },
  {
   "cell_type": "code",
   "execution_count": 28,
   "metadata": {},
   "outputs": [
    {
     "name": "stdout",
     "output_type": "stream",
     "text": [
      "The person is a toddler.\n"
     ]
    }
   ],
   "source": [
    "age = 2\n",
    "\n",
    "if age < 2:\n",
    "    print(\"The person is a baby.\")\n",
    "elif age > 1 and age < 4:\n",
    "    print(\"The person is a toddler.\")\n",
    "elif age > 3 and age < 13:\n",
    "    print(\"The person is a kid.\")\n",
    "elif age > 12 and age < 20:\n",
    "    print(\"The person is a teenager.\")\n",
    "elif age > 19 and age < 65:\n",
    "    print(\"The person is an adult\")\n",
    "else:\n",
    "    print(\"The person is an elder\")"
   ]
  },
  {
   "cell_type": "code",
   "execution_count": 29,
   "metadata": {},
   "outputs": [
    {
     "name": "stdout",
     "output_type": "stream",
     "text": [
      "The person is a kid.\n"
     ]
    }
   ],
   "source": [
    "age = 12\n",
    "\n",
    "if age < 2:\n",
    "    print(\"The person is a baby.\")\n",
    "elif age > 1 and age < 4:\n",
    "    print(\"The person is a toddler.\")\n",
    "elif age > 3 and age < 13:\n",
    "    print(\"The person is a kid.\")\n",
    "elif age > 12 and age < 20:\n",
    "    print(\"The person is a teenager.\")\n",
    "elif age > 19 and age < 65:\n",
    "    print(\"The person is an adult\")\n",
    "else:\n",
    "    print(\"The person is an elder\")"
   ]
  },
  {
   "cell_type": "code",
   "execution_count": 30,
   "metadata": {},
   "outputs": [
    {
     "name": "stdout",
     "output_type": "stream",
     "text": [
      "The person is a teenager.\n"
     ]
    }
   ],
   "source": [
    "age = 19\n",
    "\n",
    "if age < 2:\n",
    "    print(\"The person is a baby.\")\n",
    "elif age > 1 and age < 4:\n",
    "    print(\"The person is a toddler.\")\n",
    "elif age > 3 and age < 13:\n",
    "    print(\"The person is a kid.\")\n",
    "elif age > 12 and age < 20:\n",
    "    print(\"The person is a teenager.\")\n",
    "elif age > 19 and age < 65:\n",
    "    print(\"The person is an adult\")\n",
    "else:\n",
    "    print(\"The person is an elder\")"
   ]
  },
  {
   "cell_type": "code",
   "execution_count": 31,
   "metadata": {},
   "outputs": [
    {
     "name": "stdout",
     "output_type": "stream",
     "text": [
      "The person is an adult\n"
     ]
    }
   ],
   "source": [
    "age = 60\n",
    "\n",
    "if age < 2:\n",
    "    print(\"The person is a baby.\")\n",
    "elif age > 1 and age < 4:\n",
    "    print(\"The person is a toddler.\")\n",
    "elif age > 3 and age < 13:\n",
    "    print(\"The person is a kid.\")\n",
    "elif age > 12 and age < 20:\n",
    "    print(\"The person is a teenager.\")\n",
    "elif age > 19 and age < 65:\n",
    "    print(\"The person is an adult\")\n",
    "else:\n",
    "    print(\"The person is an elder\")"
   ]
  },
  {
   "cell_type": "code",
   "execution_count": 32,
   "metadata": {},
   "outputs": [
    {
     "name": "stdout",
     "output_type": "stream",
     "text": [
      "The person is an elder\n"
     ]
    }
   ],
   "source": [
    "age = 68\n",
    "\n",
    "if age < 2:\n",
    "    print(\"The person is a baby.\")\n",
    "elif age > 1 and age < 4:\n",
    "    print(\"The person is a toddler.\")\n",
    "elif age > 3 and age < 13:\n",
    "    print(\"The person is a kid.\")\n",
    "elif age > 12 and age < 20:\n",
    "    print(\"The person is a teenager.\")\n",
    "elif age > 19 and age < 65:\n",
    "    print(\"The person is an adult\")\n",
    "else:\n",
    "    print(\"The person is an elder\")"
   ]
  },
  {
   "cell_type": "markdown",
   "metadata": {},
   "source": [
    "# Q11:"
   ]
  },
  {
   "cell_type": "markdown",
   "metadata": {},
   "source": [
    "# Do the following to create a program that simulates how websites ensure that everyone has a unique username.\n",
    "\n",
    "•\t Make a list of five or more usernames called current_users.\n",
    "\n",
    "•\t Make another list of five usernames called new_users. \n",
    "Make sure one or two of the new usernames are also in the current_users list.\n",
    "\n",
    "•\t Loop through the new_users list to see if each new username has already been used. \n",
    "If it has, print a message that the person will need to enter a new username. \n",
    "If a username has not been used, print a message saying that the username is available.\n",
    "\n",
    "•\t Make sure your comparison is case insensitive. If 'John' has been used, 'JOHN' should not be accepted."
   ]
  },
  {
   "cell_type": "code",
   "execution_count": 95,
   "metadata": {},
   "outputs": [
    {
     "name": "stdout",
     "output_type": "stream",
     "text": [
      "Username: john is not available. You will need to enter a new username\n",
      "Username: IRONMAN is not available. You will need to enter a new username\n",
      "Username: BumbleBee is available\n",
      "Username: Destroyer is available\n",
      "Username: Jack is available\n"
     ]
    }
   ],
   "source": [
    "cur_users = [\"Xainsal\",\"JOHN\",\"Ironman\",\"CyberGuy\",\"JohnWick\",\"Neo\",\"Naruto\"]\n",
    "new_users = [\"john\",\"IRONMAN\",\"BumbleBee\",\"Destroyer\",\"Jack\"]\n",
    "\n",
    "for nu in new_users:\n",
    "    if nu.upper() in cur_users or nu.lower() in cur_users or nu.title() in cur_users:\n",
    "            print(f'Username: {nu} is not available. You will need to enter a new username')\n",
    "    elif nu.upper() not in cur_users or nu.lower() not in cur_users or nu.title() not in cur_users:\n",
    "            print(f'Username: {nu} is available')"
   ]
  },
  {
   "cell_type": "markdown",
   "metadata": {},
   "source": [
    "# Q12:"
   ]
  },
  {
   "cell_type": "markdown",
   "metadata": {},
   "source": [
    "Use a dictionary to store information about a person you know.\n",
    "Store their first name, last name, age, and the city in which they live. \n",
    "You should have keys such as first_name, last_name, age, and city. \n",
    "Print each piece of information stored in your dictionary"
   ]
  },
  {
   "cell_type": "code",
   "execution_count": 96,
   "metadata": {},
   "outputs": [
    {
     "name": "stdout",
     "output_type": "stream",
     "text": [
      "First Name: Zain\n"
     ]
    }
   ],
   "source": [
    "dict_person = {'first_name':'Zain','last_name':'Ahmed Saleem','age':'26','city':'Karachi'}\n",
    "print(\"First Name:\",dict_person['first_name'])"
   ]
  },
  {
   "cell_type": "code",
   "execution_count": 97,
   "metadata": {},
   "outputs": [
    {
     "name": "stdout",
     "output_type": "stream",
     "text": [
      "Last Name: Ahmed Saleem\n"
     ]
    }
   ],
   "source": [
    "dict_person = {'first_name':'Zain','last_name':'Ahmed Saleem','age':'26','city':'Karachi'}\n",
    "print(\"Last Name:\",dict_person['last_name'])"
   ]
  },
  {
   "cell_type": "code",
   "execution_count": 98,
   "metadata": {},
   "outputs": [
    {
     "name": "stdout",
     "output_type": "stream",
     "text": [
      "Age: 26\n"
     ]
    }
   ],
   "source": [
    "dict_person = {'first_name':'Zain','last_name':'Ahmed Saleem','age':'26','city':'Karachi'}\n",
    "print(\"Age:\",dict_person['age'])"
   ]
  },
  {
   "cell_type": "code",
   "execution_count": 99,
   "metadata": {},
   "outputs": [
    {
     "name": "stdout",
     "output_type": "stream",
     "text": [
      "City: Karachi\n"
     ]
    }
   ],
   "source": [
    "dict_person = {'first_name':'Zain','last_name':'Ahmed Saleem','age':'26','city':'Karachi'}\n",
    "print(\"City:\",dict_person['city'])"
   ]
  },
  {
   "cell_type": "markdown",
   "metadata": {},
   "source": [
    "# Q13:"
   ]
  },
  {
   "cell_type": "markdown",
   "metadata": {},
   "source": [
    "Starts with your last question 12 , loop through the dictionary’s keys and values.\n",
    "When you’re sure that your loop works, add five more Python terms to your\n",
    "dictionary . When you run your program again, these new words and meanings\n",
    "should automatically be included in the output."
   ]
  },
  {
   "cell_type": "code",
   "execution_count": 101,
   "metadata": {},
   "outputs": [
    {
     "name": "stdout",
     "output_type": "stream",
     "text": [
      "first_name: Zain\n",
      "last_name: Saleem\n",
      "age: 26\n",
      "city: Karachi\n"
     ]
    }
   ],
   "source": [
    "dict_person = {'first_name':'Zain','last_name':'Saleem','age':'26','city':'Karachi'}\n",
    "\n",
    "for k in dict_person:\n",
    "    print(f'{k}: {dict_person[k]}')\n",
    "\n"
   ]
  },
  {
   "cell_type": "code",
   "execution_count": 102,
   "metadata": {},
   "outputs": [
    {
     "name": "stdout",
     "output_type": "stream",
     "text": [
      "first_name: Zain\n",
      "last_name: Saleem\n",
      "age: 25\n",
      "city: Karachi\n",
      "Occupation: Student\n",
      "Marital status: Single\n",
      "Phone: 090078601\n",
      "Course: PIAIC\n",
      "Roll No: AIC000000\n"
     ]
    }
   ],
   "source": [
    "dict_person = {'first_name':'Zain','last_name':'Saleem','age':'25','city':'Karachi'}\n",
    "dict_person['Occupation'] = 'Student'\n",
    "dict_person['Marital status'] = 'Single'\n",
    "dict_person['Phone'] = '090078601'\n",
    "dict_person['Course'] = 'PIAIC'\n",
    "dict_person['Roll No'] = 'AIC000000'\n",
    "\n",
    "for k in dict_person:\n",
    "    print(f'{k}: {dict_person[k]}')\n",
    "\n"
   ]
  },
  {
   "cell_type": "markdown",
   "metadata": {},
   "source": [
    "# Q14:"
   ]
  },
  {
   "cell_type": "markdown",
   "metadata": {},
   "source": [
    "Make a dictionary containing three major rivers and the country\n",
    "each river runs through. One key-value pair might be 'nile': 'egypt'.\n",
    "    \n",
    "    \n",
    "•\t Use a loop to print a sentence about each river, such as The Nile runs\n",
    "through Egypt.\n",
    "\n",
    "NOTE: use upper case through keys and values."
   ]
  },
  {
   "cell_type": "code",
   "execution_count": 103,
   "metadata": {},
   "outputs": [
    {
     "name": "stdout",
     "output_type": "stream",
     "text": [
      "NILE runs through EGYPT\n",
      "SEPIK runs through INDONESIA\n",
      "CONGO runs through AFRICA\n"
     ]
    }
   ],
   "source": [
    "dict_rivers = {'nile':'egypt','sepik':'indonesia','congo':'africa'}\n",
    "\n",
    "for k,v in dict_rivers.items():\n",
    "    print(f'{k.upper()} runs through {v.upper()}')"
   ]
  },
  {
   "cell_type": "markdown",
   "metadata": {},
   "source": [
    "# Q15:"
   ]
  },
  {
   "cell_type": "markdown",
   "metadata": {},
   "source": [
    "Make several dictionaries, where the name of each dictionary is the\n",
    "name of a pet. In each dictionary, include the kind of animal and the owner’s\n",
    "name. Store these dictionaries in a list called pets. Next, loop through your list\n",
    "and as you do print everything you know about each pet."
   ]
  },
  {
   "cell_type": "code",
   "execution_count": 112,
   "metadata": {},
   "outputs": [
    {
     "name": "stdout",
     "output_type": "stream",
     "text": [
      "Type: Cat\n",
      "Owner: Shahzad\n",
      "\n",
      "\n",
      "Type: Mouse\n",
      "Owner: Shan\n",
      "\n",
      "\n",
      "Type: Bunny\n",
      "Owner: Andrew\n",
      "\n",
      "\n",
      "Type: Duck\n",
      "Owner: Tony\n",
      "\n",
      "\n"
     ]
    }
   ],
   "source": [
    "Tom = {'Type':'Cat','Owner':'Shahzad'}\n",
    "Jerry = {'Type':'Mouse','Owner':'Shan'}\n",
    "Bugs = {'Type':'Bunny','Owner':'Andrew'}\n",
    "Daffy = {'Type':'Duck','Owner':'Tony'}\n",
    "\n",
    "pets = [Tom, Jerry, Bugs, Daffy]\n",
    "\n",
    "\n",
    "for p in pets:\n",
    "    for k,v in p.items():\n",
    "        print(f'{k}: {v}')\n",
    "    print(\"\\n\")"
   ]
  },
  {
   "cell_type": "code",
   "execution_count": null,
   "metadata": {},
   "outputs": [],
   "source": []
  }
 ],
 "metadata": {
  "kernelspec": {
   "display_name": "Python 3",
   "language": "python",
   "name": "python3"
  },
  "language_info": {
   "codemirror_mode": {
    "name": "ipython",
    "version": 3
   },
   "file_extension": ".py",
   "mimetype": "text/x-python",
   "name": "python",
   "nbconvert_exporter": "python",
   "pygments_lexer": "ipython3",
   "version": "3.7.3"
  }
 },
 "nbformat": 4,
 "nbformat_minor": 2
}
