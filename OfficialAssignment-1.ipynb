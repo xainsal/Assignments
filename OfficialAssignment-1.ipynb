{
 "cells": [
  {
   "cell_type": "markdown",
   "metadata": {},
   "source": [
    "## 1. Calculate Area of a Circle"
   ]
  },
  {
   "cell_type": "markdown",
   "metadata": {},
   "source": [
    "#### Write a Python program which accepts the radius of a circle from the user and compute the area.\n",
    "###### Program Console Sample Output 1:\n",
    "###### Input Radius: 0.5\n",
    "###### Area of Circle with radius 0.5 is 0.7853981634"
   ]
  },
  {
   "cell_type": "code",
   "execution_count": 1,
   "metadata": {},
   "outputs": [
    {
     "name": "stdout",
     "output_type": "stream",
     "text": [
      "Input Radius: 0.5\n",
      "Area of Circle with radius 0.5 is 0.7853981634\n"
     ]
    }
   ],
   "source": [
    "from math import pi\n",
    "\n",
    "radius = float(input(\"Input Radius: \"))\n",
    "\n",
    "rad = '% 1.10f' % (pi * radius ** 2)\n",
    "\n",
    "print(\"Area of Circle with radius \" + str(radius) + \" is\" + str(rad))"
   ]
  },
  {
   "cell_type": "markdown",
   "metadata": {},
   "source": [
    "## 2. Check Number either positive, negative or zero"
   ]
  },
  {
   "cell_type": "markdown",
   "metadata": {},
   "source": [
    "#### Write a Python program to check if a number is positive, negative or zero\n",
    "###### Program Console Sample Output 1:\n",
    "###### Enter Number: -1\n",
    "##### Negative Number Entered\n",
    "###### Program Console Sample Output 2:\n",
    "##### Integer: 3\n",
    "##### Positive Number Entered\n",
    "###### Program Console Sample Output 3:\n",
    "##### Integer: 0\n",
    "###### Zero Entered"
   ]
  },
  {
   "cell_type": "code",
   "execution_count": 2,
   "metadata": {},
   "outputs": [
    {
     "name": "stdout",
     "output_type": "stream",
     "text": [
      "Enter Number: -1\n",
      "Negative Number Entered\n"
     ]
    }
   ],
   "source": [
    "numb = int(input(\"Enter Number: \"))\n",
    "\n",
    "if numb < 0:\n",
    "    print(\"Negative Number Entered\")\n",
    "elif numb == 0:\n",
    "    print(\"Integer: \" + str(numb) + \"\\nZero Entered\")\n",
    "else: \n",
    "    print(\"Integer: \" + str(numb) + \"\\nPositive Number Entered\")"
   ]
  },
  {
   "cell_type": "code",
   "execution_count": 3,
   "metadata": {},
   "outputs": [
    {
     "name": "stdout",
     "output_type": "stream",
     "text": [
      "Integer: 3\n",
      "Positive Number Entered\n"
     ]
    }
   ],
   "source": [
    "numb = 3\n",
    "\n",
    "if numb < 0:\n",
    "    print(\"Negative Number Entered\")\n",
    "elif numb == 0:\n",
    "    print(\"Integer: \" + str(numb) + \"\\nZero Entered\")\n",
    "else: \n",
    "    print(\"Integer: \" + str(numb) + \"\\nPositive Number Entered\")"
   ]
  },
  {
   "cell_type": "code",
   "execution_count": 4,
   "metadata": {},
   "outputs": [
    {
     "name": "stdout",
     "output_type": "stream",
     "text": [
      "Integer: 0\n",
      "Zero Entered\n"
     ]
    }
   ],
   "source": [
    "numb = 0\n",
    "\n",
    "if numb < 0:\n",
    "    print(\"Negative Number Entered\")\n",
    "elif numb == 0:\n",
    "    print(\"Integer: \" + str(numb) + \"\\nZero Entered\")\n",
    "else: \n",
    "    print(\"Integer: \" + str(numb) + \"\\nPositive Number Entered\")"
   ]
  },
  {
   "cell_type": "markdown",
   "metadata": {},
   "source": [
    "## 3. Divisibility Check of two numbers"
   ]
  },
  {
   "cell_type": "markdown",
   "metadata": {},
   "source": [
    "#### Write a Python program to check whether a number is completely divisible by another number. Accept two integer values form the user\n",
    "##### Program Console Sample Output 1:\n",
    "###### Enter numerator: 4\n",
    "###### Enter Denominator: 2\n",
    "##### Number 4 is Completely divisible by 2\n",
    "###### Program Console Sample Output 2:\n",
    "##### Enter numerator: 7\n",
    "\n",
    "##### Enter Denominator: 4\n",
    "###### Number 7 is not Completely divisible by 4"
   ]
  },
  {
   "cell_type": "code",
   "execution_count": 5,
   "metadata": {},
   "outputs": [
    {
     "name": "stdout",
     "output_type": "stream",
     "text": [
      "Enter numerator: 4\n",
      "Enter Denominator: 2\n",
      "Number 4 is Completely divisible by 2\n"
     ]
    }
   ],
   "source": [
    "nume = int(input(\"Enter numerator: \"))\n",
    "denom = int(input(\"Enter Denominator: \"))\n",
    "\n",
    "if nume % denom == 0:\n",
    "    print(\"Number \" + str(nume) + \" is Completely divisible by \" + str(denom))\n",
    "elif nume % denom > 0:\n",
    "    print(\"Number \" + str(nume) + \" is not Completely divisible by \" + str(denom))"
   ]
  },
  {
   "cell_type": "code",
   "execution_count": 6,
   "metadata": {},
   "outputs": [
    {
     "name": "stdout",
     "output_type": "stream",
     "text": [
      "Enter numerator: 7\n",
      "Enter Denominator: 4\n",
      "Number 7 is not Completely divisible by 4\n"
     ]
    }
   ],
   "source": [
    "nume = int(input(\"Enter numerator: \"))\n",
    "denom = int(input(\"Enter Denominator: \"))\n",
    "\n",
    "if nume % denom == 0:\n",
    "    print(\"Number \" + str(nume) + \" is Completely divisible by \" + str(denom))\n",
    "elif nume % denom > 0:\n",
    "    print(\"Number \" + str(nume) + \" is not Completely divisible by \" + str(denom))"
   ]
  },
  {
   "cell_type": "markdown",
   "metadata": {},
   "source": [
    "## 4. Calculate Volume of a sphere"
   ]
  },
  {
   "cell_type": "markdown",
   "metadata": {},
   "source": [
    "##### Write a Python program to get the volume of a sphere, please take the radius as input from user"
   ]
  },
  {
   "cell_type": "markdown",
   "metadata": {},
   "source": [
    "##### Program Console Output:\n",
    "##### Enter Radius of Sphere: 1\n",
    "###### Volume of the Sphere with Radius 1 is 4.18"
   ]
  },
  {
   "cell_type": "code",
   "execution_count": 7,
   "metadata": {},
   "outputs": [
    {
     "name": "stdout",
     "output_type": "stream",
     "text": [
      "Enter Radius of Sphere: 1\n",
      "Area of Circle with radius 1.0 is 4.189\n"
     ]
    }
   ],
   "source": [
    "from math import pi\n",
    "\n",
    "radius = float(input(\"Enter Radius of Sphere: \"))\n",
    "\n",
    "rad = '% 1.3f' % (4.0/3.0 * pi * radius ** 2)\n",
    "\n",
    "print(\"Area of Circle with radius \" + str(radius) + \" is\" + str(rad))"
   ]
  },
  {
   "cell_type": "markdown",
   "metadata": {},
   "source": [
    "## 5. Copy string n times\n",
    "#### Write a Python program to get a string which is n (non-negative integer) copies of a given string.\n",
    "##### Program Console Output:\n",
    "##### Enter String: Hi\n",
    "###### How many copies of String you need: 4\n",
    "###### 4 Copies of Hi are HiHiHiHi"
   ]
  },
  {
   "cell_type": "code",
   "execution_count": 8,
   "metadata": {},
   "outputs": [
    {
     "name": "stdout",
     "output_type": "stream",
     "text": [
      "Enter String: Hi\n",
      "How many copies of String you need: 4\n",
      "\n",
      "4 Copies of Hi are HiHiHiHi\n"
     ]
    }
   ],
   "source": [
    "stri = input(\"Enter String: \")\n",
    "\n",
    "times = int(input(\"How many copies of String you need: \"))\n",
    "str_Times = stri * times\n",
    "\n",
    "print (\"\\n\" + str(times) + \" Copies of \" + str(stri) + \" are \" + str(str_Times))"
   ]
  },
  {
   "cell_type": "markdown",
   "metadata": {},
   "source": [
    "## 6. Check if number is Even or Odd\n",
    "### Write a Python program to find whether a given number (accept from the user) is even or odd, print out an appropriate message to the user\n",
    "#### Program Console Output 1:\n",
    "##### Enter Number: 4\n",
    "###### 4 is Even\n",
    "#### Program Console Output 2:\n",
    "##### Enter Number: 9\n",
    "###### 9 is Odd"
   ]
  },
  {
   "cell_type": "code",
   "execution_count": 9,
   "metadata": {},
   "outputs": [
    {
     "name": "stdout",
     "output_type": "stream",
     "text": [
      "Enter Number: 4\n",
      "4 is Even\n"
     ]
    }
   ],
   "source": [
    "numb = int(input(\"Enter Number: \"))\n",
    "\n",
    "if numb%2 == 0:\n",
    "    print(str(numb) + \" is Even\")\n",
    "elif numb%2 > 0:\n",
    "    print(str(numb) + \" is Odd\")"
   ]
  },
  {
   "cell_type": "code",
   "execution_count": 11,
   "metadata": {},
   "outputs": [
    {
     "name": "stdout",
     "output_type": "stream",
     "text": [
      "Enter Number: 9\n",
      "9 is Odd\n"
     ]
    }
   ],
   "source": [
    "numb = int(input(\"Enter Number: \"))\n",
    "\n",
    "if numb%2 == 0:\n",
    "    print(str(numb) + \" is Even\")\n",
    "elif numb%2 > 0:\n",
    "    print(str(numb) + \" is Odd\")"
   ]
  },
  {
   "cell_type": "markdown",
   "metadata": {},
   "source": [
    "## 7. Vowel Tester\n",
    "### Write a Python program to test whether a passed letter is a vowel or not\n",
    "#### Program Console Output 1:\n",
    "##### Enter a character: A\n",
    "###### Letter A is Vowel\n",
    "#### Program Console Output 2:\n",
    "##### Enter a character: e\n",
    "###### Letter e is Vowel\n",
    "#### Program Console Output 2:\n",
    "##### Enter a character: N\n",
    "###### Letter N is not Vowel"
   ]
  },
  {
   "cell_type": "code",
   "execution_count": 22,
   "metadata": {},
   "outputs": [
    {
     "name": "stdout",
     "output_type": "stream",
     "text": [
      "Enter a character: A\n",
      "Letter A is a Vowel\n"
     ]
    }
   ],
   "source": [
    "charact = str(input(\"Enter a character: \"))\n",
    "char = charact.upper()\n",
    "\n",
    "if char == \"A\" or char == \"E\" or char == \"I\" or char == \"O\" or char == \"U\":\n",
    "    print(\"Letter \" + charact + \" is a Vowel\")\n",
    "elif char != \"A\" or char != \"E\" or char != \"I\" or char != \"O\" or char != \"U\":\n",
    "    print(\"letter \" + charact + \" is not Vowel\")\n"
   ]
  },
  {
   "cell_type": "code",
   "execution_count": 23,
   "metadata": {},
   "outputs": [
    {
     "name": "stdout",
     "output_type": "stream",
     "text": [
      "Enter a character: e\n",
      "Letter e is a Vowel\n"
     ]
    }
   ],
   "source": [
    "charact = str(input(\"Enter a character: \"))\n",
    "char = charact.upper()\n",
    "\n",
    "if char == \"A\" or char == \"E\" or char == \"I\" or char == \"O\" or char == \"U\":\n",
    "    print(\"Letter \" + charact + \" is a Vowel\")\n",
    "elif char != \"A\" or char != \"E\" or char != \"I\" or char != \"O\" or char != \"U\":\n",
    "    print(\"letter \" + charact + \" is not Vowel\")\n"
   ]
  },
  {
   "cell_type": "code",
   "execution_count": 24,
   "metadata": {},
   "outputs": [
    {
     "name": "stdout",
     "output_type": "stream",
     "text": [
      "Enter a character: N\n",
      "letter N is not Vowel\n"
     ]
    }
   ],
   "source": [
    "charact = str(input(\"Enter a character: \"))\n",
    "char = charact.upper()\n",
    "\n",
    "if char == \"A\" or char == \"E\" or char == \"I\" or char == \"O\" or char == \"U\":\n",
    "    print(\"Letter \" + charact + \" is a Vowel\")\n",
    "elif char != \"A\" or char != \"E\" or char != \"I\" or char != \"O\" or char != \"U\":\n",
    "    print(\"letter \" + charact + \" is not Vowel\")\n"
   ]
  },
  {
   "cell_type": "markdown",
   "metadata": {},
   "source": [
    "## 8. Triangle area\n",
    "### Write a Python program that will accept the base and height of a triangle and compute the area\n",
    "###### Reference:\n",
    "https://www.mathgoodies.com/lessons/vol1/area_triangle"
   ]
  },
  {
   "cell_type": "code",
   "execution_count": 29,
   "metadata": {},
   "outputs": [
    {
     "name": "stdout",
     "output_type": "stream",
     "text": [
      "Enter the base of Triangle: 5\n",
      "Enter the height of Triangle: 4\n",
      "Area Of The Triangle is: 10.0\n"
     ]
    }
   ],
   "source": [
    "base = float(input(\"Enter the base of Triangle: \"))\n",
    "height = float(input(\"Enter the height of Triangle: \"))\n",
    "area = (base * height) / 2\n",
    "\n",
    "print(\"Area Of The Triangle is: \" + str(area))"
   ]
  },
  {
   "cell_type": "markdown",
   "metadata": {},
   "source": [
    "## 9. Calculate Interest\n",
    "### Write a Python program to compute the future value of a specified principal amount, rate of interest, and a number of years\n",
    "#### Program Console Sample 1:\n",
    "##### Please enter principal amount: 10000\n",
    "###### Please Enter Rate of interest in %: 0.1\n",
    "###### Enter number of years for investment: 5\n",
    "###### After 5 years your principal amount 10000 over an interest rate of 0.1 % will be 16105.1"
   ]
  },
  {
   "cell_type": "code",
   "execution_count": 41,
   "metadata": {},
   "outputs": [
    {
     "name": "stdout",
     "output_type": "stream",
     "text": [
      "Please enter principal amount: 10000\n",
      "\n",
      "Please enter Rate of interest in %: 0.1\n",
      "\n",
      "Enter number of years for investment: 5\n",
      "After 5 years your principal amount 10000 over an interset rate of 0.1% will be 16105.1\n"
     ]
    }
   ],
   "source": [
    "amount = int(input(\"Please enter principal amount: \"))\n",
    "rate = float(input(\"\\nPlease enter Rate of interest in %: \"))\n",
    "year = int(input(\"\\nEnter number of years for investment: \"))\n",
    "\n",
    "interest = amount * (1+rate) ** year\n",
    "interest = '% 1.1f' % interest\n",
    "\n",
    "print(\"After \" + str(year) + \" years your principal amount \" + str(amount) + \" over an interset rate of \" + str(rate) + \"% will be\" + str(interest))"
   ]
  },
  {
   "cell_type": "markdown",
   "metadata": {},
   "source": [
    "## 10. Euclidean distance\n",
    "### write a Python program to compute the distance between the points (x1, y1) and (x2, y2).\n",
    "#### Program Console Sample 1:\n",
    "###### Enter Co-ordinate for x1: 2\n",
    "###### Enter Co-ordinate for x2: 4\n",
    "###### Enter Co-ordinate for y1: 4\n",
    "###### Enter Co-ordinate for y2: 4\n",
    "###### Distance between points (2, 4) and (4, 4) is 2"
   ]
  },
  {
   "cell_type": "markdown",
   "metadata": {},
   "source": [
    "###### Reference:\n",
    "https://en.wikipedia.org/wiki/Euclidean_distance"
   ]
  },
  {
   "cell_type": "code",
   "execution_count": 86,
   "metadata": {},
   "outputs": [
    {
     "name": "stdout",
     "output_type": "stream",
     "text": [
      "Enter Co-ordinate for x1: 2\n",
      "Enter Co-ordinate for x2: 4\n",
      "Enter Co-ordinate for y1: 4\n",
      "Enter Co-ordinate for y2: 4\n",
      "\n",
      "Distance between two points (2, 4) and (4, 4) is  2\n"
     ]
    }
   ],
   "source": [
    "import math\n",
    "\n",
    "x1 = int(input(\"Enter Co-ordinate for x1: \"))\n",
    "x2 = int(input(\"Enter Co-ordinate for x2: \"))\n",
    "y1 = int(input(\"Enter Co-ordinate for y1: \"))\n",
    "y2 = int(input(\"Enter Co-ordinate for y2: \"))\n",
    "\n",
    "dist = math.sqrt(((x1-y1)**2)+((x2-y2)**2))\n",
    "\n",
    "print(\"\\nDistance between two points (\" + str(x1) + \", \" + str(y1) + \") and (\" + str(x2) + \", \" + str(y2) + \") is \" + str('% 1.0f' % dist))"
   ]
  },
  {
   "cell_type": "markdown",
   "metadata": {},
   "source": [
    "## 11. Feet to Centimeter Converter\n",
    "### Write a Python program to convert height in feet to centimetres.\n",
    "##### Program Console Sample 1:\n",
    "###### Enter Height in Feet: 5\n",
    "###### There are 152.4 Cm in 5 ft\n",
    "###### Reference:\n",
    "https://www.rapidtables.com/convert/length/feet-to-cm.html"
   ]
  },
  {
   "cell_type": "code",
   "execution_count": 85,
   "metadata": {},
   "outputs": [
    {
     "name": "stdout",
     "output_type": "stream",
     "text": [
      "Enter Height in Feet: 5\n",
      "There are 152.4 Cm in 5 ft\n"
     ]
    }
   ],
   "source": [
    "height = int(input(\"Enter Height in Feet: \"))\n",
    "\n",
    "ft_cm = height * 30.48\n",
    "\n",
    "print(\"There are \" + str(ft_cm) + \" Cm in \" + str(height) + \" ft\" )"
   ]
  },
  {
   "cell_type": "markdown",
   "metadata": {},
   "source": [
    "## 12. BMI Calculator\n",
    "### Write a Python program to calculate body mass index\n",
    "##### Program Console Sample 1:\n",
    "###### Enter Height in Cm: 180\n",
    "###### Enter Weight in Kg: 75\n",
    "###### Your BMI is 23.15"
   ]
  },
  {
   "cell_type": "code",
   "execution_count": 59,
   "metadata": {},
   "outputs": [
    {
     "name": "stdout",
     "output_type": "stream",
     "text": [
      "Enter Height in Cm: 180\n",
      "Enter Weight in Kg: 75\n",
      "your BMI is  23.15\n"
     ]
    }
   ],
   "source": [
    "height = int(input(\"Enter Height in Cm: \"))\n",
    "weight = int(input(\"Enter Weight in Kg: \"))\n",
    "\n",
    "cm_mt = height / 100\n",
    "\n",
    "BMI = weight/(cm_mt**2)\n",
    "\n",
    "print(\"your BMI is \" + str('% 0.2f' % BMI))"
   ]
  },
  {
   "cell_type": "markdown",
   "metadata": {},
   "source": [
    "## 13. Sum of n Positive Integers\n",
    "### Write a python program to sum of the first n positive integers\n",
    "#### Program Console Sample 1:\n",
    "###### Enter value of n: 5\n",
    "###### Sum of n Positive integers till 5 is 15"
   ]
  },
  {
   "cell_type": "code",
   "execution_count": 65,
   "metadata": {},
   "outputs": [
    {
     "name": "stdout",
     "output_type": "stream",
     "text": [
      "Enter value of n: 5\n",
      "Sum of n Positive integers till 5 is 15\n"
     ]
    }
   ],
   "source": [
    "value = int(input(\"Enter value of n: \"))\n",
    "y = 0\n",
    "n = 0\n",
    "for x in range(0, value):\n",
    "    y += 1\n",
    "    n += y\n",
    "print(\"Sum of n Positive integers till \" + str(value) + \" is \" + str(n))"
   ]
  },
  {
   "cell_type": "markdown",
   "metadata": {},
   "source": [
    "## 14. Digits Sum of a Number\n",
    "### Write a Python program to calculate the sum of the digits in an integer\n",
    "#### Program Console Sample 1:\n",
    "##### Enter a number: 15\n",
    "###### Sum of 1 + 5 is 6\n",
    "#### Program Console Sample 2:\n",
    "##### Enter a number: 1234\n",
    "###### Sum of 1 + 2 + 3 + 4 is 10"
   ]
  },
  {
   "cell_type": "code",
   "execution_count": 83,
   "metadata": {},
   "outputs": [
    {
     "name": "stdout",
     "output_type": "stream",
     "text": [
      "Enter a number: 15\n",
      "6\n"
     ]
    }
   ],
   "source": [
    "inp_numb = input(\"Enter a number: \")\n",
    "num = 0\n",
    "\n",
    "for x in inp_numb:\n",
    "    num += int(x)\n",
    "    \n",
    "print(num)"
   ]
  },
  {
   "cell_type": "code",
   "execution_count": 84,
   "metadata": {},
   "outputs": [
    {
     "name": "stdout",
     "output_type": "stream",
     "text": [
      "Enter a number: 1234\n",
      "10\n"
     ]
    }
   ],
   "source": [
    "inp_numb = input(\"Enter a number: \")\n",
    "num = 0\n",
    "\n",
    "for x in inp_numb:\n",
    "    num += int(x)\n",
    "    \n",
    "print(num)"
   ]
  }
 ],
 "metadata": {
  "kernelspec": {
   "display_name": "Python 3",
   "language": "python",
   "name": "python3"
  },
  "language_info": {
   "codemirror_mode": {
    "name": "ipython",
    "version": 3
   },
   "file_extension": ".py",
   "mimetype": "text/x-python",
   "name": "python",
   "nbconvert_exporter": "python",
   "pygments_lexer": "ipython3",
   "version": "3.7.3"
  }
 },
 "nbformat": 4,
 "nbformat_minor": 2
}
